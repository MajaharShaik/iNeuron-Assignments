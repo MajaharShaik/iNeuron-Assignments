{
 "cells": [
  {
   "cell_type": "markdown",
   "id": "6ac87629",
   "metadata": {},
   "source": [
    "### 1. Write a Python program to find words which are greater than given length k? "
   ]
  },
  {
   "cell_type": "code",
   "execution_count": 10,
   "id": "dfafdca1",
   "metadata": {},
   "outputs": [
    {
     "name": "stdout",
     "output_type": "stream",
     "text": [
      "Enter String  This is iNeuron and i am a student\n",
      "Enter lenght value  3\n",
      "This iNeuron student "
     ]
    }
   ],
   "source": [
    "string=input(\"Enter String  \").split()\n",
    "k=int(input(\"Enter lenght value  \"))\n",
    "for i in string:\n",
    "    if len(i)>k:\n",
    "        print(i,end=\" \")"
   ]
  },
  {
   "cell_type": "markdown",
   "id": "3fb53f9b",
   "metadata": {},
   "source": [
    "### 2. Write a Python program for removing i-th character from a string? "
   ]
  },
  {
   "cell_type": "code",
   "execution_count": 11,
   "id": "8aac718e",
   "metadata": {},
   "outputs": [
    {
     "name": "stdout",
     "output_type": "stream",
     "text": [
      "Enter String  This is iNeuron and i am a student\n",
      "Enter the index of charecter to be removed  9\n",
      "After removing the charecter the string is   This is ieuron and i am a student\n"
     ]
    }
   ],
   "source": [
    "string=input(\"Enter String  \")\n",
    "k=int(input(\"Enter the index of charecter to be removed  \"))\n",
    "string=string[:k]+string[k+1:]\n",
    "print(\"After removing the charecter the string is  \",string)"
   ]
  },
  {
   "cell_type": "markdown",
   "id": "7afd28f9",
   "metadata": {},
   "source": [
    "### 3. Write a Python program to split and join a string? "
   ]
  },
  {
   "cell_type": "code",
   "execution_count": 8,
   "id": "a3299b3b",
   "metadata": {},
   "outputs": [
    {
     "name": "stdout",
     "output_type": "stream",
     "text": [
      "Enter String  This is iNeuron and i am a student\n",
      "Before splitting   This is iNeuron and i am a student\n",
      "After splitting   ['This', 'is', 'iNeuron', 'and', 'i', 'am', 'a', 'student']\n",
      "After Joining   This is iNeuron and i am a student\n"
     ]
    }
   ],
   "source": [
    "string=input(\"Enter String  \")\n",
    "print(\"Before splitting  \",string)\n",
    "s=string.split()\n",
    "print(\"After splitting  \",s)\n",
    "print(\"After Joining  \",\" \".join(s))"
   ]
  },
  {
   "cell_type": "markdown",
   "id": "6738868e",
   "metadata": {},
   "source": [
    "### 4. Write a Python to check if a given string is binary string or not? "
   ]
  },
  {
   "cell_type": "code",
   "execution_count": 13,
   "id": "fa32c4d2",
   "metadata": {},
   "outputs": [
    {
     "name": "stdout",
     "output_type": "stream",
     "text": [
      "Enter String  101011101\n",
      "Binary String\n"
     ]
    }
   ],
   "source": [
    "string=input(\"Enter String  \")\n",
    "for i in string:\n",
    "    if i in ['0','1']:\n",
    "        continue\n",
    "    else:\n",
    "        print(\"Not a binary String\")\n",
    "        break\n",
    "else:\n",
    "    print(\"Binary String\")"
   ]
  },
  {
   "cell_type": "markdown",
   "id": "612ab2bf",
   "metadata": {},
   "source": [
    "### 5. Write a Python program to find uncommon words from two Strings? "
   ]
  },
  {
   "cell_type": "code",
   "execution_count": 16,
   "id": "8be8a702",
   "metadata": {},
   "outputs": [
    {
     "name": "stdout",
     "output_type": "stream",
     "text": [
      "Enter String  this is majhar\n",
      "Enter String  this is is iNeuron\n",
      "majhar iNeuron\n"
     ]
    }
   ],
   "source": [
    "string_1=list(input(\"Enter String  \").split())\n",
    "string_2=list(input(\"Enter String  \").split())\n",
    "string_3=[]\n",
    "for i in string_1:\n",
    "    if i not in string_2:\n",
    "        if i not in string_3:\n",
    "            string_3.append(i)\n",
    "for i in string_2:\n",
    "    if i not in string_1:\n",
    "        if i not in string_3:\n",
    "            string_3.append(i)\n",
    "print(*string_3)"
   ]
  },
  {
   "cell_type": "markdown",
   "id": "091eb79d",
   "metadata": {},
   "source": [
    "### 6. Write a Python to find all duplicate characters in string? "
   ]
  },
  {
   "cell_type": "code",
   "execution_count": 20,
   "id": "43b4bdad",
   "metadata": {},
   "outputs": [
    {
     "name": "stdout",
     "output_type": "stream",
     "text": [
      "This is iNeuron and i am studing datascience\n",
      "The duplicate charecters in the string are  t i s n e u a d c\n"
     ]
    }
   ],
   "source": [
    "string=input()\n",
    "string=string.lower()\n",
    "l=[]\n",
    "for j in string.split():\n",
    "    for i in j:\n",
    "        if string.count(i) !=1:\n",
    "            if i not in l:\n",
    "                l.append(i)\n",
    "print(\"The duplicate charecters in the string are \",*l)\n"
   ]
  },
  {
   "cell_type": "markdown",
   "id": "154af9f6",
   "metadata": {},
   "source": [
    "### 7. Write a Python Program to check if a string contains any special character? "
   ]
  },
  {
   "cell_type": "code",
   "execution_count": 9,
   "id": "d646c047",
   "metadata": {},
   "outputs": [
    {
     "name": "stdout",
     "output_type": "stream",
     "text": [
      "Enter String  This is @iNeuron and!! i am a student\n",
      "String contains special charecters\n"
     ]
    }
   ],
   "source": [
    "special_char='''[@_!#$%^&*()<>?/\\|}{~:]'''\n",
    "string=input(\"Enter String  \")\n",
    "for i in string:\n",
    "    if i in special_char:\n",
    "        print(\"String contains special charecters\")\n",
    "        break\n",
    "else:\n",
    "    print(\"String doesn't contain special charecter\")"
   ]
  },
  {
   "cell_type": "code",
   "execution_count": null,
   "id": "135a273a",
   "metadata": {},
   "outputs": [],
   "source": []
  }
 ],
 "metadata": {
  "kernelspec": {
   "display_name": "Python 3 (ipykernel)",
   "language": "python",
   "name": "python3"
  },
  "language_info": {
   "codemirror_mode": {
    "name": "ipython",
    "version": 3
   },
   "file_extension": ".py",
   "mimetype": "text/x-python",
   "name": "python",
   "nbconvert_exporter": "python",
   "pygments_lexer": "ipython3",
   "version": "3.9.12"
  }
 },
 "nbformat": 4,
 "nbformat_minor": 5
}

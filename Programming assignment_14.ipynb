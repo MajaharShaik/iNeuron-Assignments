{
 "cells": [
  {
   "cell_type": "markdown",
   "id": "169900f0",
   "metadata": {},
   "source": [
    "### Question 1\n",
    "#### Define a class with a generator which can iterate the numbers, which are divisible by 7, between a given range 0 and n."
   ]
  },
  {
   "cell_type": "code",
   "execution_count": 26,
   "id": "80ecab54",
   "metadata": {},
   "outputs": [
    {
     "name": "stdout",
     "output_type": "stream",
     "text": [
      "Enter number  100\n",
      "0 7 14 21 28 35 42 49 56 63 70 77 84 91 98 "
     ]
    }
   ],
   "source": [
    "class Gen:\n",
    "    def __init__(self,n):\n",
    "        self.n=n\n",
    "    def div(self):\n",
    "        for i in range(0,self.n):\n",
    "            if i%7==0:\n",
    "                yield i\n",
    "num=int(input(\"Enter number  \"))\n",
    "for i in Gen(num).div():\n",
    "    print(i,end=\" \")"
   ]
  },
  {
   "cell_type": "markdown",
   "id": "d7f03d4a",
   "metadata": {},
   "source": [
    "### Question 2:\n",
    "- Write a program to compute the frequency of the words from the input. The output should output after sorting the key alphanumerically.\n",
    "\n",
    "- Suppose the following input is supplied to the program:\n",
    "    - New to Python or choosing between Python 2 and Python 3? Read Python 2 or Python 3.\n",
    "- Then, the output should be:\n",
    "    - 2:2\n",
    "    - 3.:1\n",
    "    - 3?:1\n",
    "    - New:1\n",
    "    - Python:5\n",
    "    - Read:1\n",
    "    - and:1\n",
    "    - between:1\n",
    "    - choosing:1\n",
    "    - or:2\n",
    "    - to:1"
   ]
  },
  {
   "cell_type": "code",
   "execution_count": 9,
   "id": "00768066",
   "metadata": {},
   "outputs": [
    {
     "name": "stdout",
     "output_type": "stream",
     "text": [
      "New to Python or choosing between Python 2 and Python 3? Read Python 2 or Python 3.\n",
      "2:2\n",
      "3.:1\n",
      "3?:1\n",
      "New:1\n",
      "Python:5\n",
      "Read:1\n",
      "and:1\n",
      "between:1\n",
      "choosing:1\n",
      "or:2\n",
      "to:1\n"
     ]
    }
   ],
   "source": [
    "string=input()\n",
    "d={}\n",
    "for i in string.split():\n",
    "    if i not in d:\n",
    "        d[i]=1\n",
    "    else:\n",
    "        d[i]+=1\n",
    "d=dict(sorted(d.items()))\n",
    "for i,j in d.items():\n",
    "    print(\"{}:{}\".format(i,j))\n",
    "    "
   ]
  },
  {
   "cell_type": "markdown",
   "id": "bd34f55e",
   "metadata": {},
   "source": [
    "### Question 3:\n",
    "\n",
    "- Define a class Person and its two child classes: Male and Female. All classes have a method &quot;getGender&quot; which can print &quot;Male&quot; for Male class and &quot;Female&quot; for Female class."
   ]
  },
  {
   "cell_type": "code",
   "execution_count": 15,
   "id": "777283f1",
   "metadata": {},
   "outputs": [
    {
     "name": "stdout",
     "output_type": "stream",
     "text": [
      "Male \n",
      " Now we are going to Parent class\n",
      "This is Parent class\n",
      "\n",
      "Female \n",
      " Now we are going to Parent class\n",
      "This is Parent class\n"
     ]
    }
   ],
   "source": [
    "class Person:\n",
    "    def getGender(self):\n",
    "        print(\"This is Parent class\")\n",
    "class Male(Person):\n",
    "    def getGender(self):\n",
    "        print(\"Male\",\"\\n\",\"Now we are going to Parent class\")\n",
    "        super().getGender()\n",
    "class Female(Person):\n",
    "    def getGender(self):\n",
    "        print(\"Female\",\"\\n\",\"Now we are going to Parent class\")\n",
    "        super().getGender()\n",
    "        \n",
    "male=Male()\n",
    "female=Female()\n",
    "male.getGender()\n",
    "print(\"\")\n",
    "female.getGender()"
   ]
  },
  {
   "cell_type": "markdown",
   "id": "9c1b5843",
   "metadata": {},
   "source": [
    "### Question 4:\n",
    "- Please write a program to generate all sentences where subject is in [&quot;I&quot;, &quot;You&quot;] and verb is in [&quot;Play&quot;, &quot;Love&quot;] and the object is in [&quot;Hockey&quot;,&quot;Football&quot;]."
   ]
  },
  {
   "cell_type": "code",
   "execution_count": 16,
   "id": "15d82259",
   "metadata": {},
   "outputs": [
    {
     "name": "stdout",
     "output_type": "stream",
     "text": [
      "I Play Hockey\n",
      "I Play Football\n",
      "I Love Hockey\n",
      "I Love Football\n",
      "You Play Hockey\n",
      "You Play Football\n",
      "You Love Hockey\n",
      "You Love Football\n"
     ]
    }
   ],
   "source": [
    "subject=['I','You']\n",
    "verb=['Play','Love']\n",
    "obj=['Hockey','Football']\n",
    "for i in subject:\n",
    "    for j in verb:\n",
    "        for k in obj:\n",
    "            print(i,j,k)"
   ]
  },
  {
   "cell_type": "markdown",
   "id": "a98158f6",
   "metadata": {},
   "source": [
    "### Question 5:\n",
    "- Please write a program to compress and decompress the string &quot;hello world!hello world!hello world!hello world!&quot;."
   ]
  },
  {
   "cell_type": "code",
   "execution_count": 23,
   "id": "ebf93c57",
   "metadata": {},
   "outputs": [
    {
     "name": "stdout",
     "output_type": "stream",
     "text": [
      "After compression of given string -->  hello world!\n",
      "After decompression of the string -->  hello world!hello world!hello world!hello world!\n"
     ]
    }
   ],
   "source": [
    "a=\"hello world!hello world!hello world!hello world!\"\n",
    "b=a.split(\"!\")\n",
    "b=list(set(b))\n",
    "print(\"After compression of given string --> \",end=\" \")\n",
    "compress=\"!\".join(b)\n",
    "print(compress)\n",
    "c=a.count(compress)\n",
    "print(\"After decompression of the string --> \",end=\" \")\n",
    "print(compress*c)"
   ]
  },
  {
   "cell_type": "markdown",
   "id": "df50be51",
   "metadata": {},
   "source": [
    "### Question 6:\n",
    "- Please write a binary search function which searches an item in a sorted list. The function should return the index of element to be searched in the list."
   ]
  },
  {
   "cell_type": "code",
   "execution_count": 25,
   "id": "b53b42f6",
   "metadata": {},
   "outputs": [
    {
     "name": "stdout",
     "output_type": "stream",
     "text": [
      "Enter array elements  1 2 3 4 5 6 7\n",
      "Enter value which is to be search  6\n"
     ]
    },
    {
     "data": {
      "text/plain": [
       "5"
      ]
     },
     "execution_count": 25,
     "metadata": {},
     "output_type": "execute_result"
    }
   ],
   "source": [
    "def binary_search(arr,key,low,high):\n",
    "    if high>=low:\n",
    "        mid=(low+high)//2\n",
    "        if arr[mid]==key:\n",
    "            return mid\n",
    "        elif arr[mid]<key:\n",
    "            return binary_search(arr,key,mid+1,high)\n",
    "        else:\n",
    "            return binary_search(arr,key,low,mid-1)\n",
    "    else:\n",
    "        return -1\n",
    "arr=[int(i) for i in input(\"Enter array elements  \").split()]\n",
    "key=int(input(\"Enter value which is to be search  \"))\n",
    "binary_search(arr,key,0,len(arr))\n"
   ]
  }
 ],
 "metadata": {
  "kernelspec": {
   "display_name": "Python 3 (ipykernel)",
   "language": "python",
   "name": "python3"
  },
  "language_info": {
   "codemirror_mode": {
    "name": "ipython",
    "version": 3
   },
   "file_extension": ".py",
   "mimetype": "text/x-python",
   "name": "python",
   "nbconvert_exporter": "python",
   "pygments_lexer": "ipython3",
   "version": "3.9.12"
  }
 },
 "nbformat": 4,
 "nbformat_minor": 5
}

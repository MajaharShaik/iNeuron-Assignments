{
 "cells": [
  {
   "cell_type": "markdown",
   "id": "a221d253",
   "metadata": {},
   "source": [
    "### Question 1\n",
    "\n",
    "- Create a function that takes three parameters where:\n",
    "    -  x is the start of the range (inclusive).\n",
    "    -  y is the end of the range (inclusive).\n",
    "    -  n is the divisor to be checked against.\n",
    "- Return an ordered list with numbers in the range that are divisible by the third parameter n.\n",
    "- Return an empty list if there are no numbers that are divisible by n.\n",
    "\n",
    "#### Examples\n",
    "\n",
    "- list_operation(1, 10, 3) ➞ [3, 6, 9]\n",
    "- list_operation(7, 9, 2) ➞ [8]\n",
    "- list_operation(15, 20, 7) ➞ []"
   ]
  },
  {
   "cell_type": "code",
   "execution_count": 2,
   "id": "8540141d",
   "metadata": {},
   "outputs": [
    {
     "name": "stdout",
     "output_type": "stream",
     "text": [
      "[3, 6, 9]\n",
      "[8]\n",
      "[]\n"
     ]
    }
   ],
   "source": [
    "def list_operation(a,b,c):\n",
    "    arr=[]\n",
    "    for i in range(a,b+1):\n",
    "        if i%c==0:\n",
    "            arr.append(i)\n",
    "    return arr\n",
    "    \n",
    "print(list_operation(1, 10, 3))\n",
    "print(list_operation(7, 9, 2))\n",
    "print(list_operation(15, 20, 7))"
   ]
  },
  {
   "cell_type": "markdown",
   "id": "576e27f4",
   "metadata": {},
   "source": [
    "### Question 2\n",
    "\n",
    "- Create a function that takes in two lists and returns True if the second list follows the first list by one element, and False otherwise. In other words, determine if the second list is the first list shifted to the right by 1.\n",
    "\n",
    "#### Examples\n",
    "\n",
    "- simon_says([1, 2], [5, 1]) ➞ True\n",
    "- simon_says([1, 2], [5, 5]) ➞ False\n",
    "- simon_says([1, 2, 3, 4, 5], [0, 1, 2, 3, 4]) ➞ True\n",
    "- simon_says([1, 2, 3, 4, 5], [5, 5, 1, 2, 3]) ➞ False\n",
    "\n",
    "### Notes\n",
    "-  Both input lists will be of the same length, and will have a minimum length of 2.\n",
    "-  The values of the 0-indexed element in the second list and the n-1th indexed element in the first list do not matter."
   ]
  },
  {
   "cell_type": "code",
   "execution_count": 5,
   "id": "e3ace8a4",
   "metadata": {},
   "outputs": [
    {
     "name": "stdout",
     "output_type": "stream",
     "text": [
      "True\n",
      "False\n",
      "True\n",
      "False\n"
     ]
    }
   ],
   "source": [
    "def simon_says(arr1,arr2):\n",
    "    if arr1[:len(arr1)-1]==arr2[1:]:\n",
    "        return True\n",
    "    else:\n",
    "        for i in range(len(arr1)):\n",
    "            if arr1[i] == arr2[i]-1:\n",
    "                continue\n",
    "            else:\n",
    "                return False\n",
    "        else:\n",
    "            False\n",
    "print(simon_says([1, 2], [5, 1]))\n",
    "print(simon_says([1, 2], [5, 5]))\n",
    "print(simon_says([1, 2, 3, 4, 5], [0, 1, 2, 3, 4]))\n",
    "print(simon_says([1, 2, 3, 4, 5], [5, 5, 1, 2, 3]))"
   ]
  },
  {
   "cell_type": "markdown",
   "id": "0ad5e6be",
   "metadata": {},
   "source": [
    "### Question 3\n",
    "\n",
    "- A group of friends have decided to start a secret society. The name will be the first letter of each of their names, sorted in alphabetical order.\n",
    "\n",
    "- Create a function that takes in a list of names and returns the name of the secret society.\n",
    "\n",
    "#### Examples\n",
    "\n",
    "- society_name([&quot;Adam&quot;, &quot;Sarah&quot;, &quot;Malcolm&quot;]) ➞ &quot;AMS&quot;\n",
    "- society_name([&quot;Harry&quot;, &quot;Newt&quot;, &quot;Luna&quot;, &quot;Cho&quot;]) ➞ &quot;CHLN&quot;\n",
    "- society_name([&quot;Phoebe&quot;, &quot;Chandler&quot;, &quot;Rachel&quot;, &quot;Ross&quot;, &quot;Monica&quot;, &quot;Joey&quot;])"
   ]
  },
  {
   "cell_type": "code",
   "execution_count": 6,
   "id": "e50c6e7f",
   "metadata": {},
   "outputs": [
    {
     "name": "stdout",
     "output_type": "stream",
     "text": [
      "AMS\n",
      "CHLN\n",
      "CJMPRR\n"
     ]
    }
   ],
   "source": [
    "def society_name(arr):\n",
    "    a=[]\n",
    "    for i in arr:\n",
    "        a.append(i[0])\n",
    "    a.sort()\n",
    "    return \"\".join(a)\n",
    "        \n",
    "\n",
    "print(society_name([\"Adam\", \"Sarah\", \"Malcolm\"]))\n",
    "print(society_name([\"Harry\", \"Newt\", \"Luna\", \"Cho\"])) \n",
    "print(society_name([\"Phoebe\", \"Chandler\", \"Rachel\", \"Ross\", \"Monica\", \"Joey\"]))"
   ]
  },
  {
   "cell_type": "markdown",
   "id": "5df230f9",
   "metadata": {},
   "source": [
    "### Question 4\n",
    "\n",
    "- An isogram is a word that has no duplicate letters. Create a function that takes a string and returns either True or False depending on whether or not it&#39;s an &quot;isogram&quot;.\n",
    "\n",
    "#### Examples\n",
    "\n",
    "- is_isogram(&quot;Algorism&quot;) ➞ True\n",
    "- is_isogram(&quot;PasSword&quot;) ➞ False\n",
    "     - Not case sensitive.\n",
    "- is_isogram(&quot;Consecutive&quot;) ➞ False\n",
    "\n",
    "### Notes\n",
    "\n",
    "-  Ignore letter case (should not be case sensitive).\n",
    "-  All test cases contain valid one word strings."
   ]
  },
  {
   "cell_type": "code",
   "execution_count": 7,
   "id": "7905495b",
   "metadata": {},
   "outputs": [
    {
     "name": "stdout",
     "output_type": "stream",
     "text": [
      "True\n",
      "False\n",
      "False\n"
     ]
    }
   ],
   "source": [
    "def is_isogram(string):\n",
    "    a=list(string.lower())\n",
    "    if len(a)==len(set(a)):\n",
    "        return True\n",
    "    else:\n",
    "        return False\n",
    "print(is_isogram(\"Algorism\"))\n",
    "print(is_isogram(\"PasSword\"))\n",
    "print(is_isogram(\"Consecutive\"))"
   ]
  },
  {
   "cell_type": "markdown",
   "id": "49f1314c",
   "metadata": {},
   "source": [
    "### Question 5\n",
    "\n",
    "- Create a function that takes a string and returns True or False, depending on whether the characters are in order or not.\n",
    "\n",
    "#### Examples\n",
    "\n",
    "- is_in_order(&quot;abc&quot;) ➞ True\n",
    "- is_in_order(&quot;edabit&quot;) ➞ False\n",
    "- is_in_order(&quot;123&quot;) ➞ True\n",
    "- is_in_order(&quot;xyzz&quot;) ➞ True\n",
    "\n",
    "#### Notes\n",
    "- You don&#39;t have to handle empty strings."
   ]
  },
  {
   "cell_type": "code",
   "execution_count": 8,
   "id": "afa9e3fd",
   "metadata": {},
   "outputs": [
    {
     "name": "stdout",
     "output_type": "stream",
     "text": [
      "True\n",
      "False\n",
      "True\n",
      "True\n"
     ]
    }
   ],
   "source": [
    "def is_in_order(s):\n",
    "    a=list(s)\n",
    "    for i in range(len(a)-1):\n",
    "        if a[i]>a[i+1]:\n",
    "            return False\n",
    "    else:\n",
    "        return True    \n",
    "    \n",
    "print(is_in_order(\"abc\"))\n",
    "print(is_in_order(\"edabit\"))\n",
    "print(is_in_order(\"123\"))\n",
    "print(is_in_order(\"xyzz\"))"
   ]
  },
  {
   "cell_type": "code",
   "execution_count": null,
   "id": "9681b57e",
   "metadata": {},
   "outputs": [],
   "source": []
  }
 ],
 "metadata": {
  "kernelspec": {
   "display_name": "Python 3 (ipykernel)",
   "language": "python",
   "name": "python3"
  },
  "language_info": {
   "codemirror_mode": {
    "name": "ipython",
    "version": 3
   },
   "file_extension": ".py",
   "mimetype": "text/x-python",
   "name": "python",
   "nbconvert_exporter": "python",
   "pygments_lexer": "ipython3",
   "version": "3.9.12"
  }
 },
 "nbformat": 4,
 "nbformat_minor": 5
}

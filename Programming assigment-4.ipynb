{
 "cells": [
  {
   "cell_type": "markdown",
   "id": "154903e9",
   "metadata": {},
   "source": [
    "### 1. Write a Python Program to Find the Factorial of a Number? "
   ]
  },
  {
   "cell_type": "code",
   "execution_count": 1,
   "id": "a4a3042c",
   "metadata": {},
   "outputs": [
    {
     "name": "stdout",
     "output_type": "stream",
     "text": [
      "Enter a number5\n",
      "120\n"
     ]
    }
   ],
   "source": [
    "num=int(input(\"Enter a number\"))\n",
    "fact=1\n",
    "for i in range(2,num+1):\n",
    "    fact*=i\n",
    "print(fact)\n",
    "    "
   ]
  },
  {
   "cell_type": "markdown",
   "id": "31e5b7db",
   "metadata": {},
   "source": [
    "### 2. Write a Python Program to Display the multiplication Table?"
   ]
  },
  {
   "cell_type": "code",
   "execution_count": 3,
   "id": "59d56f5b",
   "metadata": {},
   "outputs": [
    {
     "name": "stdout",
     "output_type": "stream",
     "text": [
      "Enter a number5\n",
      "5 * 1 = 5\n",
      "5 * 2 = 10\n",
      "5 * 3 = 15\n",
      "5 * 4 = 20\n",
      "5 * 5 = 25\n",
      "5 * 6 = 30\n",
      "5 * 7 = 35\n",
      "5 * 8 = 40\n",
      "5 * 9 = 45\n",
      "5 * 10 = 50\n"
     ]
    }
   ],
   "source": [
    "num=int(input(\"Enter a number\"))\n",
    "for i in range(1,11):\n",
    "    print(\"{} * {} = {}\".format(num,i,num*i))"
   ]
  },
  {
   "cell_type": "markdown",
   "id": "078c2dce",
   "metadata": {},
   "source": [
    "### 3. Write a Python Program to Print the Fibonacci sequence?"
   ]
  },
  {
   "cell_type": "code",
   "execution_count": 5,
   "id": "e88853eb",
   "metadata": {},
   "outputs": [
    {
     "name": "stdout",
     "output_type": "stream",
     "text": [
      "Enter number10\n",
      "0 1 1 2 3 5 8 13 21 34 "
     ]
    }
   ],
   "source": [
    "num=int(input(\"Enter number\"))\n",
    "fib_0=0\n",
    "fib_1=1\n",
    "print(fib_0,fib_1,end=\" \")\n",
    "for i in range(2,num):\n",
    "    fib_2=fib_0+fib_1\n",
    "    print(fib_2,end=\" \")\n",
    "    fib_0,fib_1=fib_1,fib_2"
   ]
  },
  {
   "cell_type": "markdown",
   "id": "92c9c896",
   "metadata": {},
   "source": [
    "### 4. Write a Python Program to Check Armstrong Number?"
   ]
  },
  {
   "cell_type": "code",
   "execution_count": 7,
   "id": "fa78dd77",
   "metadata": {},
   "outputs": [
    {
     "name": "stdout",
     "output_type": "stream",
     "text": [
      "Enter number153\n",
      "Armstrong Number\n"
     ]
    }
   ],
   "source": [
    "num=input(\"Enter number\")\n",
    "l=len(num)\n",
    "sum_1=0\n",
    "for i in num:\n",
    "    sum_1+=int(i)**l\n",
    "if int(num) == sum_1:\n",
    "    print(\"Armstrong Number\")\n",
    "else:\n",
    "    print(\"Not Armstrong Number\")\n",
    "\n"
   ]
  },
  {
   "cell_type": "markdown",
   "id": "be98380e",
   "metadata": {},
   "source": [
    "### 5. Write a Python Program to Find Armstrong Number in an Interval? "
   ]
  },
  {
   "cell_type": "code",
   "execution_count": 1,
   "id": "b07a9c7b",
   "metadata": {},
   "outputs": [
    {
     "name": "stdout",
     "output_type": "stream",
     "text": [
      "Enter starting number1\n",
      "Enter Ending number1000\n",
      "1\n",
      "2\n",
      "3\n",
      "4\n",
      "5\n",
      "6\n",
      "7\n",
      "8\n",
      "9\n",
      "153\n",
      "370\n",
      "371\n",
      "407\n"
     ]
    }
   ],
   "source": [
    "def armstrong(n):\n",
    "    num=str(n)\n",
    "    l=len(num)\n",
    "    sum_1=0\n",
    "    for i in num:\n",
    "        sum_1+=int(i)**l\n",
    "    if int(num) == sum_1:\n",
    "        return True\n",
    "    else:\n",
    "        return False\n",
    "    \n",
    "start=int(input(\"Enter starting number\"))\n",
    "end=int(input(\"Enter Ending number\"))\n",
    "for i in range(start,end+1):\n",
    "    if armstrong(i) == True:\n",
    "        print(i)\n",
    "    "
   ]
  },
  {
   "cell_type": "markdown",
   "id": "9305d380",
   "metadata": {},
   "source": [
    "### 6. Write a Python Program to Find the Sum of Natural Numbers?"
   ]
  },
  {
   "cell_type": "code",
   "execution_count": 14,
   "id": "83cc4005",
   "metadata": {},
   "outputs": [
    {
     "name": "stdout",
     "output_type": "stream",
     "text": [
      "Enter number5\n",
      "15\n"
     ]
    }
   ],
   "source": [
    "num=int(input(\"Enter number\"))\n",
    "'''sum_1=0\n",
    "for i in range(1,num+1):\n",
    "    sum_1+=i\n",
    "print(\"Sum of Natural numbers are : \",sum_1)'''\n",
    "print((num*(num+1)//2))"
   ]
  },
  {
   "cell_type": "code",
   "execution_count": null,
   "id": "8b9b62c6",
   "metadata": {},
   "outputs": [],
   "source": []
  }
 ],
 "metadata": {
  "kernelspec": {
   "display_name": "Python 3 (ipykernel)",
   "language": "python",
   "name": "python3"
  },
  "language_info": {
   "codemirror_mode": {
    "name": "ipython",
    "version": 3
   },
   "file_extension": ".py",
   "mimetype": "text/x-python",
   "name": "python",
   "nbconvert_exporter": "python",
   "pygments_lexer": "ipython3",
   "version": "3.9.12"
  }
 },
 "nbformat": 4,
 "nbformat_minor": 5
}

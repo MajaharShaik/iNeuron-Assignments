{
 "cells": [
  {
   "cell_type": "markdown",
   "id": "a8def89a",
   "metadata": {},
   "source": [
    "### 1. Write a Python Program to Add Two Matrices? "
   ]
  },
  {
   "cell_type": "code",
   "execution_count": 4,
   "id": "19c5c951",
   "metadata": {},
   "outputs": [
    {
     "name": "stdout",
     "output_type": "stream",
     "text": [
      "Enter 1 st matrix rows2\n",
      "Enter 1 st matrix cloumns2\n",
      "Enter 2 st matrix rows2\n",
      "Enter 2 st matrix columns2\n",
      "1\n",
      "2\n",
      "3\n",
      "4\n",
      "1\n",
      "2\n",
      "3\n",
      "4\n",
      "[[1, 2], [3, 4]]\n",
      "[[1, 2], [3, 4]]\n",
      "[[2, 4], [6, 8]]\n"
     ]
    }
   ],
   "source": [
    "mat_1=[]\n",
    "mat_2=[]\n",
    "m1=int(input(\"Enter 1 st matrix rows\"))\n",
    "n1=int(input(\"Enter 1 st matrix cloumns\"))\n",
    "m2=int(input(\"Enter 2 st matrix rows\"))\n",
    "n2=int(input(\"Enter 2 st matrix columns\"))\n",
    "for i in range(m1):\n",
    "    a=[]\n",
    "    for j in range(n1):\n",
    "        a.append(int(input()))\n",
    "    mat_1.append(a)\n",
    "for i in range(m2):\n",
    "    a=[]\n",
    "    for j in range(n2):\n",
    "        a.append(int(input()))\n",
    "    mat_2.append(a)\n",
    "if m1 == m2 and n1 == n1:\n",
    "    mat_3=[]\n",
    "    for i in range(m1):\n",
    "        a=[]\n",
    "        for j in range(n2):\n",
    "            a.append(mat_1[i][j]+mat_2[i][j])\n",
    "        mat_3.append(a)\n",
    "    print(mat_1)\n",
    "    print(mat_2)\n",
    "    print(mat_3)\n",
    "else:\n",
    "    print(\"Addition is not possible\")\n",
    "            \n",
    "            \n",
    "        \n"
   ]
  },
  {
   "cell_type": "markdown",
   "id": "3f2c1585",
   "metadata": {},
   "source": [
    "### 2. Write a Python Program to Multiply Two Matrices? "
   ]
  },
  {
   "cell_type": "code",
   "execution_count": 2,
   "id": "0b6907f2",
   "metadata": {},
   "outputs": [
    {
     "name": "stdout",
     "output_type": "stream",
     "text": [
      "Enter 1 st matrix rows3\n",
      "Enter 1 st matrix cloumns2\n",
      "Enter 2 st matrix rows2\n",
      "Enter 2 st matrix columns3\n",
      "1\n",
      "2\n",
      "3\n",
      "4\n",
      "5\n",
      "6\n",
      "7\n",
      "8\n",
      "9\n",
      "10\n",
      "11\n",
      "12\n",
      "[[1, 2], [3, 4], [5, 6]]\n",
      "[[7, 8, 9], [10, 11, 12]]\n",
      "[[27, 30, 33], [61, 68, 75], [95, 106, 117]]\n"
     ]
    }
   ],
   "source": [
    "mat_1=[]\n",
    "mat_2=[]\n",
    "m1=int(input(\"Enter 1 st matrix rows\"))\n",
    "n1=int(input(\"Enter 1 st matrix cloumns\"))\n",
    "m2=int(input(\"Enter 2 st matrix rows\"))\n",
    "n2=int(input(\"Enter 2 st matrix columns\"))\n",
    "for i in range(m1):\n",
    "    a=[]\n",
    "    for j in range(n1):\n",
    "        a.append(int(input()))\n",
    "    mat_1.append(a)\n",
    "for i in range(m2):\n",
    "    a=[]\n",
    "    for j in range(n2):\n",
    "        a.append(int(input()))\n",
    "    mat_2.append(a)\n",
    "if n1 == m2:\n",
    "    mat_3=[]\n",
    "    for i in range(m1):\n",
    "        a=[]\n",
    "        for j in range(n2):\n",
    "            b=0\n",
    "            for k in range(n1):\n",
    "                b+=mat_1[i][k]*mat_2[k][j]\n",
    "            a.append(b)\n",
    "        mat_3.append(a)\n",
    "    print(mat_1)\n",
    "    print(mat_2)\n",
    "    print(mat_3)\n",
    "else:\n",
    "    print(\"Multiplication is not possible\")\n",
    "            \n",
    "            \n",
    "        \n"
   ]
  },
  {
   "cell_type": "markdown",
   "id": "59175d5a",
   "metadata": {},
   "source": [
    "### 3. Write a Python Program to Transpose a Matrix? "
   ]
  },
  {
   "cell_type": "code",
   "execution_count": 9,
   "id": "714ffb85",
   "metadata": {},
   "outputs": [
    {
     "name": "stdout",
     "output_type": "stream",
     "text": [
      "Enter 1 st matrix rows4\n",
      "Enter 1 st matrix cloumns4\n",
      "1\n",
      "2\n",
      "3\n",
      "4\n",
      "5\n",
      "6\n",
      "7\n",
      "8\n",
      "9\n",
      "10\n",
      "11\n",
      "12\n",
      "13\n",
      "14\n",
      "15\n",
      "16\n",
      "[[1, 2, 3, 4], [5, 6, 7, 8], [9, 10, 11, 12], [13, 14, 15, 16]]\n",
      "[[1, 5, 9, 13], [2, 6, 10, 14], [3, 7, 11, 15], [4, 8, 12, 16]]\n"
     ]
    }
   ],
   "source": [
    "mat_1=[]\n",
    "m1=int(input(\"Enter 1 st matrix rows\"))\n",
    "n1=int(input(\"Enter 1 st matrix cloumns\"))\n",
    "for i in range(m1):\n",
    "    a=[]\n",
    "    for j in range(n1):\n",
    "        a.append(int(input()))\n",
    "    mat_1.append(a)\n",
    "    \n",
    "transpose_mat=[]\n",
    "for i in range(len(mat_1[0])):\n",
    "    transpose_mat.append([mat_1[j][i] for j in range(len(mat_1))])\n",
    "print(mat_1)\n",
    "print(transpose_mat)"
   ]
  },
  {
   "cell_type": "markdown",
   "id": "423152a7",
   "metadata": {},
   "source": [
    "### 4. Write a Python Program to Sort Words in Alphabetic Order? "
   ]
  },
  {
   "cell_type": "code",
   "execution_count": 12,
   "id": "d4fc18d4",
   "metadata": {},
   "outputs": [
    {
     "name": "stdout",
     "output_type": "stream",
     "text": [
      "this is iNeuron and i am a student\n",
      "a am and i iNeuron is student this\n"
     ]
    }
   ],
   "source": [
    "string=input()\n",
    "arr=[i for i in string.split()]\n",
    "arr.sort()\n",
    "print(\" \".join(arr))"
   ]
  },
  {
   "cell_type": "markdown",
   "id": "f26a9abf",
   "metadata": {},
   "source": [
    "### 5. Write a Python Program to Remove Punctuation From a String? "
   ]
  },
  {
   "cell_type": "code",
   "execution_count": 20,
   "id": "9d195c13",
   "metadata": {},
   "outputs": [
    {
     "name": "stdout",
     "output_type": "stream",
     "text": [
      "This, is :iNeuron, and I' am a Student\n",
      "This is iNeuron and I am a Student\n"
     ]
    }
   ],
   "source": [
    "string=input()\n",
    "punc = '''!()-[]{};:'\"\\,<>./?@#$%^&*_~'''\n",
    "for i in string:\n",
    "    if i not in punc:\n",
    "        continue       \n",
    "    else:\n",
    "        string=string.replace(i,\"\")\n",
    "print(string)"
   ]
  }
 ],
 "metadata": {
  "kernelspec": {
   "display_name": "Python 3 (ipykernel)",
   "language": "python",
   "name": "python3"
  },
  "language_info": {
   "codemirror_mode": {
    "name": "ipython",
    "version": 3
   },
   "file_extension": ".py",
   "mimetype": "text/x-python",
   "name": "python",
   "nbconvert_exporter": "python",
   "pygments_lexer": "ipython3",
   "version": "3.9.12"
  }
 },
 "nbformat": 4,
 "nbformat_minor": 5
}

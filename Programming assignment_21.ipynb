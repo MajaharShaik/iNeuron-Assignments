{
 "cells": [
  {
   "cell_type": "markdown",
   "id": "3d6c5fb1",
   "metadata": {},
   "source": [
    "### Question 1\n",
    "\n",
    "- Write a function that takes a list and a number as arguments. Add the number to the end of the list, then remove the first element of the list. The function should then return the updated list.\n",
    "\n",
    "#### Examples\n",
    "\n",
    "- next_in_line([5, 6, 7, 8, 9], 1) ➞ [6, 7, 8, 9, 1]\n",
    "- next_in_line([7, 6, 3, 23, 17], 10) ➞ [6, 3, 23, 17, 10]\n",
    "- next_in_line([1, 10, 20, 42 ], 6) ➞ [10, 20, 42, 6]\n",
    "- next_in_line([], 6) ➞ &quot;No list has been selected&quot;"
   ]
  },
  {
   "cell_type": "code",
   "execution_count": 1,
   "id": "496035d0",
   "metadata": {},
   "outputs": [
    {
     "name": "stdout",
     "output_type": "stream",
     "text": [
      "[6, 7, 8, 9, 1]\n",
      "[6, 3, 23, 17, 10]\n",
      "[10, 20, 42, 6]\n",
      "No list has been selected\n"
     ]
    }
   ],
   "source": [
    "def next_in_line(arr,n):\n",
    "    if arr !=[]:\n",
    "        return arr[1:]+[n]\n",
    "    else:\n",
    "        return \"No list has been selected\"\n",
    "\n",
    "print(next_in_line([5, 6, 7, 8, 9], 1))\n",
    "print(next_in_line([7, 6, 3, 23, 17], 10))\n",
    "print(next_in_line([1, 10, 20, 42 ], 6))\n",
    "print(next_in_line([], 6))"
   ]
  },
  {
   "cell_type": "markdown",
   "id": "4836f4a1",
   "metadata": {},
   "source": [
    "### Question 2\n",
    "\n",
    "- Create the function that takes a list of dictionaries and returns the sum of people&#39;s budgets.\n",
    "\n",
    "#### Examples\n",
    "- get_budgets([\n",
    "{ &quot;name&quot;: &quot;John&quot;, &quot;age&quot;: 21, &quot;budget&quot;: 23000 },\n",
    "{ &quot;name&quot;: &quot;Steve&quot;, &quot;age&quot;: 32, &quot;budget&quot;: 40000 },\n",
    "{ &quot;name&quot;: &quot;Martin&quot;, &quot;age&quot;: 16, &quot;budget&quot;: 2700 }\n",
    "]) ➞ 65700\n",
    "- get_budgets([\n",
    "{ &quot;name&quot;: &quot;John&quot;, &quot;age&quot;: 21, &quot;budget&quot;: 29000 },\n",
    "{ &quot;name&quot;: &quot;Steve&quot;, &quot;age&quot;: 32, &quot;budget&quot;: 32000 },\n",
    "{ &quot;name&quot;: &quot;Martin&quot;, &quot;age&quot;: 16, &quot;budget&quot;: 1600 }\n",
    "]) ➞ 62600"
   ]
  },
  {
   "cell_type": "code",
   "execution_count": 4,
   "id": "6559fe98",
   "metadata": {},
   "outputs": [
    {
     "name": "stdout",
     "output_type": "stream",
     "text": [
      "65700\n",
      "62600\n"
     ]
    }
   ],
   "source": [
    "def get_budgets(arr):\n",
    "    budget=0\n",
    "    for i in arr:\n",
    "        budget+=i[\"budget\"]\n",
    "    return budget\n",
    "\n",
    "print(get_budgets([ { \"name\": \"John\", \"age\": 21, \"budget\": 23000 }, \n",
    "                   { \"name\": \"Steve\", \"age\": 32, \"budget\": 40000 }, \n",
    "                   { \"name\": \"Martin\", \"age\": 16, \"budget\": 2700 } ]))\n",
    "print(get_budgets([ { \"name\": \"John\", \"age\": 21, \"budget\": 29000 },\n",
    "                   { \"name\": \"Steve\", \"age\": 32, \"budget\": 32000 }, \n",
    "                   { \"name\": \"Martin\", \"age\": 16, \"budget\": 1600 } ]))"
   ]
  },
  {
   "cell_type": "markdown",
   "id": "3454a0ac",
   "metadata": {},
   "source": [
    "### Question 3\n",
    "\n",
    "- Create a function that takes a string and returns a string with its letters in alphabetical order.\n",
    "\n",
    "#### Examples\n",
    "\n",
    "- alphabet_soup(&quot;hello&quot;) ➞ &quot;ehllo&quot;\n",
    "- alphabet_soup(&quot;edabit&quot;) ➞ &quot;abdeit&quot;\n",
    "- alphabet_soup(&quot;hacker&quot;) ➞ &quot;acehkr&quot;\n",
    "- alphabet_soup(&quot;geek&quot;) ➞ &quot;eegk&quot;\n",
    "- alphabet_soup(&quot;javascript&quot;) ➞ &quot;aacijprstv&quot;"
   ]
  },
  {
   "cell_type": "code",
   "execution_count": 6,
   "id": "063b00f1",
   "metadata": {},
   "outputs": [
    {
     "name": "stdout",
     "output_type": "stream",
     "text": [
      "ehllo\n",
      "abdeit\n",
      "acehkr\n",
      "eegk\n",
      "aacijprstv\n"
     ]
    }
   ],
   "source": [
    "def alphabet_soup(n):\n",
    "    a=list(n)\n",
    "    a.sort()\n",
    "    return \"\".join(a)\n",
    "\n",
    "print(alphabet_soup(\"hello\"))\n",
    "print(alphabet_soup(\"edabit\"))\n",
    "print(alphabet_soup(\"hacker\"))\n",
    "print(alphabet_soup(\"geek\"))\n",
    "print(alphabet_soup(\"javascript\"))"
   ]
  },
  {
   "cell_type": "markdown",
   "id": "1aea7a41",
   "metadata": {},
   "source": [
    "### Question 4"
   ]
  },
  {
   "cell_type": "markdown",
   "id": "ebd3b3b2",
   "metadata": {},
   "source": [
    "Suppose that you invest $10,000 for 10 years at an interest rate of 6% compounded monthly."
   ]
  },
  {
   "cell_type": "markdown",
   "id": "e02d8078",
   "metadata": {},
   "source": [
    "- What will be the value of your investment at the end of the 10 year period?\n",
    "- Create a function that accepts the principal p, the term in years t, the interest rate r, and the number of compounding periods per year n. The function returns the value at the end of term rounded to the nearest cent."
   ]
  },
  {
   "cell_type": "markdown",
   "id": "ca3bca46",
   "metadata": {},
   "source": [
    "- For the example above:\n",
    "    - compound_interest(10000, 10, 0.06, 12) ➞ 18193.97\n",
    "- Note that the interest rate is given as a decimal and n=12 because with monthly compounding there are 12 periods per year. Compounding can also be done annually, quarterly, weekly, or daily.\n",
    "\n",
    "#### Examples\n",
    "\n",
    "- compound_interest(100, 1, 0.05, 1) ➞ 105.0\n",
    "- compound_interest(3500, 15, 0.1, 4) ➞ 15399.26\n",
    "- compound_interest(100000, 20, 0.15, 365) ➞ 2007316.26\n"
   ]
  },
  {
   "cell_type": "code",
   "execution_count": 11,
   "id": "8b901b62",
   "metadata": {},
   "outputs": [
    {
     "name": "stdout",
     "output_type": "stream",
     "text": [
      "105.0\n",
      "15399.26\n",
      "2007316.26\n"
     ]
    }
   ],
   "source": [
    "def compound_interest(p,t,r,n):\n",
    "    a=p*(1+(r/n))**(n*t)\n",
    "    return round(a,2)\n",
    "print(compound_interest(100, 1, 0.05, 1))\n",
    "print(compound_interest(3500, 15, 0.1, 4))\n",
    "print(compound_interest(100000, 20, 0.15, 365)) "
   ]
  },
  {
   "cell_type": "markdown",
   "id": "4df963f7",
   "metadata": {},
   "source": [
    "### Question 5\n",
    "\n",
    "- Write a function that takes a list of elements and returns only the integers.\n",
    "\n",
    "#### Examples\n",
    "\n",
    "- return_only_integer([9, 2, &quot;space&quot;, &quot;car&quot;, &quot;lion&quot;, 16]) ➞ [9, 2, 16]\n",
    "- return_only_integer([&quot;hello&quot;, 81, &quot;basketball&quot;, 123, &quot;fox&quot;]) ➞ [81, 123]\n",
    "- return_only_integer([10, &quot;121&quot;, 56, 20, &quot;car&quot;, 3, &quot;lion&quot;]) ➞ [10, 56, 20,\n",
    "3]\n",
    "- return_only_integer([&quot;String&quot;, True, 3.3, 1]) ➞ [1]"
   ]
  },
  {
   "cell_type": "code",
   "execution_count": 7,
   "id": "ff9f9427",
   "metadata": {},
   "outputs": [
    {
     "name": "stdout",
     "output_type": "stream",
     "text": [
      "[9, 2, 16]\n",
      "[81, 123]\n",
      "[10, 56, 20, 3]\n",
      "[1]\n"
     ]
    }
   ],
   "source": [
    "def return_only_integer(arr):\n",
    "    a=[]\n",
    "    for i in arr:\n",
    "        if type(i) == int:\n",
    "            a.append(i)\n",
    "    return a\n",
    "print(return_only_integer([9, 2, \"space\", \"car\", \"lion\", 16]))\n",
    "print(return_only_integer([\"hello\", 81, \"basketball\", 123, \"fox\"]))\n",
    "print(return_only_integer([10, \"121\", 56, 20, \"car\", 3, \"lion\"]))\n",
    "print(return_only_integer([\"String\", True, 3.3, 1]))"
   ]
  }
 ],
 "metadata": {
  "kernelspec": {
   "display_name": "Python 3 (ipykernel)",
   "language": "python",
   "name": "python3"
  },
  "language_info": {
   "codemirror_mode": {
    "name": "ipython",
    "version": 3
   },
   "file_extension": ".py",
   "mimetype": "text/x-python",
   "name": "python",
   "nbconvert_exporter": "python",
   "pygments_lexer": "ipython3",
   "version": "3.9.12"
  }
 },
 "nbformat": 4,
 "nbformat_minor": 5
}

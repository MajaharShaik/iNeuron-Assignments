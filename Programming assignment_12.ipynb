{
 "cells": [
  {
   "cell_type": "markdown",
   "id": "0cdaf37d",
   "metadata": {},
   "source": [
    "### 1. Write a Python program to Extract Unique values dictionary values?"
   ]
  },
  {
   "cell_type": "code",
   "execution_count": 14,
   "id": "d40c7f7e",
   "metadata": {},
   "outputs": [
    {
     "name": "stdout",
     "output_type": "stream",
     "text": [
      "Original dictionary  {'one': 1, 'two': 2, 'Two': 2, 'One': 1, 'three': 3, 'four': 4, 'Four': 4}\n",
      "\n",
      "Unique values in dictionary values are  {1, 2, 3, 4}\n"
     ]
    }
   ],
   "source": [
    "dict_1={'one':1,'two':2,'Two':2,'One':1,'three':3,'four':4,'Four':4}\n",
    "print(\"Original dictionary \",dict_1)\n",
    "print(\"\")\n",
    "print(\"Unique values in dictionary values are \",set(dict_1.values()))"
   ]
  },
  {
   "cell_type": "markdown",
   "id": "ac18228d",
   "metadata": {},
   "source": [
    "### 2. Write a Python program to find the sum of all items in a dictionary?"
   ]
  },
  {
   "cell_type": "code",
   "execution_count": 13,
   "id": "086d29fb",
   "metadata": {},
   "outputs": [
    {
     "name": "stdout",
     "output_type": "stream",
     "text": [
      "Original dictionary  {'one': 1, 'two': 2, 'Two': 2, 'One': 1, 'three': 3, 'four': 4, 'Four': 4}\n",
      "\n",
      "Unique values in dictionary values are  17\n"
     ]
    }
   ],
   "source": [
    "dict_1={'one':1,'two':2,'Two':2,'One':1,'three':3,'four':4,'Four':4}\n",
    "print(\"Original dictionary \",dict_1)\n",
    "print(\"\")\n",
    "print(\"Unique values in dictionary values are \",sum(list(dict_1.values())))"
   ]
  },
  {
   "cell_type": "markdown",
   "id": "27bbb6ba",
   "metadata": {},
   "source": [
    "### 3. Write a Python program to Merging two Dictionaries?"
   ]
  },
  {
   "cell_type": "code",
   "execution_count": 12,
   "id": "f03565df",
   "metadata": {},
   "outputs": [
    {
     "name": "stdout",
     "output_type": "stream",
     "text": [
      "{'one': 1, 'two': 2, 'three': 3, 'four': 4}\n",
      "\n",
      "{'five': 5, 'six': 6, 'seven': 7}\n",
      "\n",
      "After merging 2 dictionaries\n",
      "\n",
      "{'one': 1, 'two': 2, 'three': 3, 'four': 4, 'five': 5, 'six': 6, 'seven': 7}\n"
     ]
    }
   ],
   "source": [
    "dict_1={'one':1,'two':2,'three':3,'four':4}\n",
    "dict_2={'five':5,'six':6,'seven':7}\n",
    "print(dict_1)\n",
    "print(\"\")\n",
    "print(dict_2)\n",
    "print(\"\")\n",
    "dict_1.update(dict_2)\n",
    "print(\"After merging 2 dictionaries\")\n",
    "print(\"\")\n",
    "print(dict_1)"
   ]
  },
  {
   "cell_type": "markdown",
   "id": "e6e42885",
   "metadata": {},
   "source": [
    "### 4. Write a Python program to convert key-values list to flat dictionary?"
   ]
  },
  {
   "cell_type": "code",
   "execution_count": 11,
   "id": "6b5232af",
   "metadata": {},
   "outputs": [
    {
     "name": "stdout",
     "output_type": "stream",
     "text": [
      "Key-value list is  -->   [['one', 1], ['two', 2], ['three', 3], ['four', 4]]\n",
      "\n",
      "Flat dictionay for that kye-value list -->  {'one': 1, 'two': 2, 'three': 3, 'four': 4}\n"
     ]
    }
   ],
   "source": [
    "list_1=[['one',1],['two',2],['three',3],['four',4]]\n",
    "print(\"Key-value list is  -->  \",list_1)\n",
    "print(\"\")\n",
    "dict_2=dict()\n",
    "for i,j in list_1:\n",
    "    dict_2[i]=j\n",
    "print(\"Flat dictionay for that kye-value list --> \",dict_2)\n",
    "\n",
    "    "
   ]
  },
  {
   "cell_type": "markdown",
   "id": "e5141cb5",
   "metadata": {},
   "source": [
    "### 5. Write a Python program to insertion at the beginning in OrderedDict?"
   ]
  },
  {
   "cell_type": "code",
   "execution_count": 10,
   "id": "74f3d23e",
   "metadata": {},
   "outputs": [
    {
     "name": "stdout",
     "output_type": "stream",
     "text": [
      "\n",
      "Original dictionary \n",
      "\n",
      "OrderedDict([('one', 1), ('two', 2), ('three', 3), ('four', 4)])\n",
      "\n",
      "Dictionary after inseting inot beginning positon \n",
      "\n",
      "OrderedDict([('majju', 'my name'), ('one', 1), ('two', 2), ('three', 3), ('four', 4)])\n"
     ]
    }
   ],
   "source": [
    "from collections import OrderedDict\n",
    "dict_1=OrderedDict([['one', 1], ['two', 2], ['three', 3], ['four', 4]])\n",
    "print(\"\")\n",
    "print(\"Original dictionary \")\n",
    "print(\"\")\n",
    "print(dict_1)\n",
    "print(\"\")\n",
    "dict_1.update({'majju':'my name'})\n",
    "dict_1.move_to_end('majju',last=False)\n",
    "print(\"Dictionary after inseting inot beginning positon \")\n",
    "print(\"\")\n",
    "print(dict_1)\n",
    "\n"
   ]
  },
  {
   "cell_type": "markdown",
   "id": "fb475cd9",
   "metadata": {},
   "source": [
    "### 6. Write a Python program to check order of character in string using OrderedDict()?"
   ]
  },
  {
   "cell_type": "code",
   "execution_count": 21,
   "id": "4459189b",
   "metadata": {},
   "outputs": [
    {
     "name": "stdout",
     "output_type": "stream",
     "text": [
      "Enter a string  this is ineuron and it is datascience course\n",
      "Enter pattern  tinea\n",
      "True\n"
     ]
    }
   ],
   "source": [
    "from collections import OrderedDict\n",
    "string=input(\"Enter a string  \")\n",
    "pattern=input(\"Enter pattern  \")\n",
    "d=OrderedDict.fromkeys(string)\n",
    "l=0\n",
    "for i,j in d.items():\n",
    "    if i == pattern[l]:\n",
    "        l+=1\n",
    "    if l == len(pattern):\n",
    "        print(True)\n",
    "        break\n",
    "else:\n",
    "    print(False)\n",
    "\n"
   ]
  },
  {
   "cell_type": "markdown",
   "id": "a074c311",
   "metadata": {},
   "source": [
    "### 7. Write a Python program to sort Python Dictionaries by Key or Value?"
   ]
  },
  {
   "cell_type": "code",
   "execution_count": 9,
   "id": "7adaa91c",
   "metadata": {},
   "outputs": [
    {
     "name": "stdout",
     "output_type": "stream",
     "text": [
      "Before sort--> {'two': 2, 'seven': 7, 'four': 4, 'five': 5, 'three': 3, 'six': 6, 'one': 1}\n",
      "\n",
      "After sorting using values  \n",
      "\n",
      "{'one': 1, 'two': 2, 'three': 3, 'four': 4, 'five': 5, 'six': 6, 'seven': 7}\n",
      "\n",
      "After sorting using keys  \n",
      "\n",
      "{'five': 5, 'four': 4, 'one': 1, 'seven': 7, 'six': 6, 'three': 3, 'two': 2}\n"
     ]
    }
   ],
   "source": [
    "dict_1={ 'two': 2, 'seven': 7,  'four': 4, 'five': 5,'three': 3, 'six': 6,'one': 1,}\n",
    "print(\"Before sort-->\",dict_1)\n",
    "dict_2=sorted(dict_1.items(),key=lambda x: x[1])\n",
    "print(\"\")\n",
    "print(\"After sorting using values  \")\n",
    "print(\"\")\n",
    "print(dict(dict_2))\n",
    "dict_3=sorted(dict_1.items(),key=lambda x: x[0])\n",
    "print(\"\")\n",
    "print(\"After sorting using keys  \")\n",
    "print(\"\")\n",
    "print(dict(dict_3))"
   ]
  },
  {
   "cell_type": "code",
   "execution_count": null,
   "id": "04db3d5b",
   "metadata": {},
   "outputs": [],
   "source": []
  }
 ],
 "metadata": {
  "kernelspec": {
   "display_name": "Python 3 (ipykernel)",
   "language": "python",
   "name": "python3"
  },
  "language_info": {
   "codemirror_mode": {
    "name": "ipython",
    "version": 3
   },
   "file_extension": ".py",
   "mimetype": "text/x-python",
   "name": "python",
   "nbconvert_exporter": "python",
   "pygments_lexer": "ipython3",
   "version": "3.9.12"
  }
 },
 "nbformat": 4,
 "nbformat_minor": 5
}

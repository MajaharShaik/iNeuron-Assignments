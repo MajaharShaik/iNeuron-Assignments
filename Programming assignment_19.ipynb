{
 "cells": [
  {
   "cell_type": "markdown",
   "id": "961a8026",
   "metadata": {},
   "source": [
    "### Question1\n",
    "\n",
    "- Create a function that takes a string and returns a string in which each character is repeated once.\n",
    "\n",
    "#### Examples\n",
    "- double_char(&quot;String&quot;) ➞ &quot;SSttrriinngg&quot;\n",
    "- double_char(&quot;Hello World!&quot;) ➞ &quot;HHeelllloo WWoorrlldd!!&quot;\n",
    "- double_char(&quot;1234!_ &quot;) ➞ &quot;11223344!!__ &quot;"
   ]
  },
  {
   "cell_type": "code",
   "execution_count": 1,
   "id": "fabcd5ce",
   "metadata": {},
   "outputs": [
    {
     "name": "stdout",
     "output_type": "stream",
     "text": [
      "SSttrriinngg\n",
      "HHeelllloo  WWoorrlldd!!\n",
      "11223344!!__  \n"
     ]
    }
   ],
   "source": [
    "def double_char(n):\n",
    "    s=\"\"\n",
    "    for i in n:\n",
    "        s+=i*2\n",
    "    return s\n",
    "print(double_char(\"String\"))\n",
    "print(double_char(\"Hello World!\"))\n",
    "print(double_char(\"1234!_ \"))"
   ]
  },
  {
   "cell_type": "markdown",
   "id": "c448ea35",
   "metadata": {},
   "source": [
    "### Question2\n",
    "\n",
    "- Create a function that reverses a boolean value and returns the string &quot;boolean expected&quot; if another variable type is given.\n",
    "\n",
    "#### Examples\n",
    "\n",
    "- reverse(True) ➞ False\n",
    "- reverse(False) ➞ True\n",
    "- reverse(0) ➞ &quot;boolean expected&quot;\n",
    "- reverse(None) ➞ &quot;boolean expected&quot;"
   ]
  },
  {
   "cell_type": "code",
   "execution_count": 3,
   "id": "f1583ddd",
   "metadata": {},
   "outputs": [
    {
     "name": "stdout",
     "output_type": "stream",
     "text": [
      "False\n",
      "True\n",
      "Boolean expected\n",
      "Boolean expected\n"
     ]
    }
   ],
   "source": [
    "def reverse(n):\n",
    "    if type(n) == bool:\n",
    "        if n == True:\n",
    "            return False\n",
    "        else:\n",
    "            return True\n",
    "    else:\n",
    "        return \"Boolean expected\"\n",
    "print(reverse(True))\n",
    "print(reverse(False)) \n",
    "print(reverse(0))\n",
    "print(reverse(None)) "
   ]
  },
  {
   "cell_type": "markdown",
   "id": "bf5cddad",
   "metadata": {},
   "source": [
    "### Question3\n",
    "\n",
    "- Create a function that returns the thickness (in meters) of a piece of paper after folding it n number of times. The paper starts off with a thickness of 0.5mm.\n",
    "\n",
    "#### Examples\n",
    "\n",
    "- num_layers(1) ➞ &quot;0.001m&quot;\n",
    "     - Paper folded once is 1mm (equal to 0.001m)\n",
    "- num_layers(4) ➞ &quot;0.008m&quot;\n",
    "     - Paper folded 4 times is 8mm (equal to 0.008m)\n",
    "- num_layers(21) ➞ &quot;1048.576m&quot;\n",
    "     - Paper folded 21 times is 1048576mm (equal to 1048.576m)"
   ]
  },
  {
   "cell_type": "code",
   "execution_count": 9,
   "id": "3d695217",
   "metadata": {},
   "outputs": [
    {
     "name": "stdout",
     "output_type": "stream",
     "text": [
      "0.001m\n",
      "0.008m\n",
      "1048.576m\n"
     ]
    }
   ],
   "source": [
    "def num_layers(n):\n",
    "    a=0.0005\n",
    "    return \"{}m\".format(a*(2**n))\n",
    "\n",
    "print(num_layers(1))\n",
    "print(num_layers(4))\n",
    "print(num_layers(21))"
   ]
  },
  {
   "cell_type": "markdown",
   "id": "68857209",
   "metadata": {},
   "source": [
    "### Question4\n",
    "\n",
    "- Create a function that takes a single string as argument and returns an ordered list containing the indices of all capital letters in the string.\n",
    "\n",
    "#### Examples\n",
    "\n",
    "- index_of_caps(&quot;eDaBiT&quot;) ➞ [1, 3, 5]\n",
    "- index_of_caps(&quot;eQuINoX&quot;) ➞ [1, 3, 4, 6]\n",
    "- index_of_caps(&quot;determine&quot;) ➞ []\n",
    "- index_of_caps(&quot;STRIKE&quot;) ➞ [0, 1, 2, 3, 4, 5]\n",
    "- index_of_caps(&quot;sUn&quot;) ➞ [1]"
   ]
  },
  {
   "cell_type": "code",
   "execution_count": 11,
   "id": "243a36db",
   "metadata": {},
   "outputs": [
    {
     "name": "stdout",
     "output_type": "stream",
     "text": [
      "[1, 3, 5]\n",
      "[1, 3, 4, 6]\n",
      "[]\n",
      "[0, 1, 2, 3, 4, 5]\n",
      "[1]\n"
     ]
    }
   ],
   "source": [
    "def index_of_caps(n):\n",
    "    a=[]\n",
    "    for i in range(len(n)):\n",
    "        if n[i].isupper():\n",
    "            a.append(i)\n",
    "    return a\n",
    "print(index_of_caps(\"eDaBiT\"))\n",
    "print(index_of_caps(\"eQuINoX\"))\n",
    "print(index_of_caps(\"determine\"))\n",
    "print(index_of_caps(\"STRIKE\"))\n",
    "print(index_of_caps(\"sUn\"))"
   ]
  },
  {
   "cell_type": "markdown",
   "id": "8d453d59",
   "metadata": {},
   "source": [
    "### Question 5\n",
    "- Using list comprehensions, create a function that finds all even numbers from 1 to the given number.\n",
    "\n",
    "#### Examples\n",
    "\n",
    "- find_even_nums(8) ➞ [2, 4, 6, 8]\n",
    "- find_even_nums(4) ➞ [2, 4]\n",
    "- find_even_nums(2) ➞ [2]"
   ]
  },
  {
   "cell_type": "code",
   "execution_count": 15,
   "id": "65537203",
   "metadata": {},
   "outputs": [
    {
     "name": "stdout",
     "output_type": "stream",
     "text": [
      "[2, 4, 6, 8]\n",
      "[2, 4]\n",
      "[2]\n"
     ]
    }
   ],
   "source": [
    "def find_even_nums(n):\n",
    "    return [i for i in range(1,n+1) if i%2==0]    \n",
    "\n",
    "print(find_even_nums(8)) \n",
    "print(find_even_nums(4)) \n",
    "print(find_even_nums(2))"
   ]
  },
  {
   "cell_type": "code",
   "execution_count": null,
   "id": "e996fbc6",
   "metadata": {},
   "outputs": [],
   "source": []
  }
 ],
 "metadata": {
  "kernelspec": {
   "display_name": "Python 3 (ipykernel)",
   "language": "python",
   "name": "python3"
  },
  "language_info": {
   "codemirror_mode": {
    "name": "ipython",
    "version": 3
   },
   "file_extension": ".py",
   "mimetype": "text/x-python",
   "name": "python",
   "nbconvert_exporter": "python",
   "pygments_lexer": "ipython3",
   "version": "3.9.12"
  }
 },
 "nbformat": 4,
 "nbformat_minor": 5
}

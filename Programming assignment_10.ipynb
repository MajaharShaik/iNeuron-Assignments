{
 "cells": [
  {
   "cell_type": "markdown",
   "id": "d2ad3ff9",
   "metadata": {},
   "source": [
    "### 1. Write a Python program to find sum of elements in list? "
   ]
  },
  {
   "cell_type": "code",
   "execution_count": 1,
   "id": "3e171184",
   "metadata": {},
   "outputs": [
    {
     "name": "stdout",
     "output_type": "stream",
     "text": [
      "1 2 3 4 5\n",
      "Sum of all the list elements is 15\n"
     ]
    }
   ],
   "source": [
    "list_1=[int(i) for i in input().split()]\n",
    "print(\"Sum of all the list elements is {}\".format(sum(list_1)))"
   ]
  },
  {
   "cell_type": "markdown",
   "id": "40f2a97e",
   "metadata": {},
   "source": [
    "###  2. Write a Python program to Multiply all numbers in the list?"
   ]
  },
  {
   "cell_type": "code",
   "execution_count": 3,
   "id": "df9cf918",
   "metadata": {},
   "outputs": [
    {
     "name": "stdout",
     "output_type": "stream",
     "text": [
      "1 2 3 4 5\n",
      "Multiplication of all the list elements is 120\n"
     ]
    }
   ],
   "source": [
    "list_1=[int(i) for i in input().split()]\n",
    "mul=1\n",
    "for i in list_1:\n",
    "    mul*=i    \n",
    "print(\"Multiplication of all the list elements is {}\".format(mul))"
   ]
  },
  {
   "cell_type": "markdown",
   "id": "14187d3a",
   "metadata": {},
   "source": [
    "### 3. Write a Python program to find smallest number in a list? "
   ]
  },
  {
   "cell_type": "code",
   "execution_count": 4,
   "id": "eebd5590",
   "metadata": {},
   "outputs": [
    {
     "name": "stdout",
     "output_type": "stream",
     "text": [
      "1 2 3 5 4 0\n",
      "Smallest element in the  list is 0\n"
     ]
    }
   ],
   "source": [
    "list_1=[int(i) for i in input().split()]\n",
    "print(\"Smallest element in the  list is {}\".format(min(list_1)))"
   ]
  },
  {
   "cell_type": "markdown",
   "id": "e044d91b",
   "metadata": {},
   "source": [
    "### 4. Write a Python program to find largest number in a list? "
   ]
  },
  {
   "cell_type": "code",
   "execution_count": 5,
   "id": "4894b801",
   "metadata": {},
   "outputs": [
    {
     "name": "stdout",
     "output_type": "stream",
     "text": [
      "1 2 3 4 5 6\n",
      "Largest element in the list is 6\n"
     ]
    }
   ],
   "source": [
    "list_1=[int(i) for i in input().split()]\n",
    "print(\"Largest element in the list is {}\".format(max(list_1)))"
   ]
  },
  {
   "cell_type": "markdown",
   "id": "21e1b28f",
   "metadata": {},
   "source": [
    "### 5. Write a Python program to find second largest number in a list? "
   ]
  },
  {
   "cell_type": "code",
   "execution_count": 8,
   "id": "e9c09486",
   "metadata": {},
   "outputs": [
    {
     "name": "stdout",
     "output_type": "stream",
     "text": [
      "1 2 3 52 62 95 101 150\n",
      "Secound largest elements in the list is 101\n"
     ]
    }
   ],
   "source": [
    "list_1=[int(i) for i in input().split()]\n",
    "list_1.remove(max(list_1))\n",
    "print(\"Secound largest elements in the list is {}\".format(max(list_1)))"
   ]
  },
  {
   "cell_type": "markdown",
   "id": "4b6ef970",
   "metadata": {},
   "source": [
    "### 6. Write a Python program to find N largest elements from a list? "
   ]
  },
  {
   "cell_type": "code",
   "execution_count": 31,
   "id": "09f206d5",
   "metadata": {},
   "outputs": [
    {
     "name": "stdout",
     "output_type": "stream",
     "text": [
      "1 2 3 4 5 6 7\n",
      "Enter n value  3\n",
      "3 largest elements are \n",
      "[7, 6, 5]\n"
     ]
    }
   ],
   "source": [
    "list_1=[int(i) for i in input().split()]\n",
    "key=int(input(\"Enter n value  \"))\n",
    "print(\"{} largest elements are \".format(key))\n",
    "print(sorted(list_1,reverse=True)[:key])\n",
    "\n"
   ]
  },
  {
   "cell_type": "markdown",
   "id": "55fa20a2",
   "metadata": {},
   "source": [
    "### 7. Write a Python program to print even numbers in a list? "
   ]
  },
  {
   "cell_type": "code",
   "execution_count": 10,
   "id": "3c8704d6",
   "metadata": {},
   "outputs": [
    {
     "name": "stdout",
     "output_type": "stream",
     "text": [
      "1 2 3 4 5 6 7 8 12\n",
      "Even numbers in the list are \n",
      "2 4 6 8 12 "
     ]
    }
   ],
   "source": [
    "list_1=[int(i) for i in input().split()]\n",
    "print(\"Even numbers in the list are \")\n",
    "for i in list_1:\n",
    "    if i%2==0:\n",
    "        print(i,end=\" \")"
   ]
  },
  {
   "cell_type": "markdown",
   "id": "745dc19e",
   "metadata": {},
   "source": [
    "### 8. Write a Python program to print odd numbers in a List? "
   ]
  },
  {
   "cell_type": "code",
   "execution_count": 11,
   "id": "e9e27486",
   "metadata": {},
   "outputs": [
    {
     "name": "stdout",
     "output_type": "stream",
     "text": [
      "1 2 3 4 5 6 7 8 9\n",
      "Odd numbers in the list are \n",
      "1 3 5 7 9 "
     ]
    }
   ],
   "source": [
    "list_1=[int(i) for i in input().split()]\n",
    "print(\"Odd numbers in the list are \")\n",
    "for i in list_1:\n",
    "    if i%2!=0:\n",
    "        print(i,end=\" \")"
   ]
  },
  {
   "cell_type": "markdown",
   "id": "09a8e4c6",
   "metadata": {},
   "source": [
    "### 9. Write a Python program to Remove empty List from List? "
   ]
  },
  {
   "cell_type": "code",
   "execution_count": 21,
   "id": "4ceefe31",
   "metadata": {},
   "outputs": [
    {
     "name": "stdout",
     "output_type": "stream",
     "text": [
      "List before deleting empty lists\n",
      "[1, 2, 3, [1, 2], [], 3, 5, []]\n",
      "List after deletind empty lists\n",
      "[1, 2, 3, [1, 2], 3, 5]\n"
     ]
    }
   ],
   "source": [
    "list_1=[1,2,3,[1,2],[],3,5,[]]\n",
    "print(\"List before deleting empty lists\")\n",
    "print(list_1)\n",
    "list_2 = list(filter(None, list_1))\n",
    "print(\"List after deletind empty lists\")\n",
    "print(list_2)"
   ]
  },
  {
   "cell_type": "markdown",
   "id": "f60589d8",
   "metadata": {},
   "source": [
    "### 10. Write a Python program to Cloning or Copying a list? "
   ]
  },
  {
   "cell_type": "code",
   "execution_count": 19,
   "id": "22ceca11",
   "metadata": {},
   "outputs": [
    {
     "name": "stdout",
     "output_type": "stream",
     "text": [
      "1 2 3 45 6\n",
      "List 1 is copied to list 2\n",
      "[1, 2, 3, 45, 6]\n"
     ]
    }
   ],
   "source": [
    "list_1=[int(i) for i in input().split()]\n",
    "list_2=list_1.copy()\n",
    "print(\"List 1 is copied to list 2\")\n",
    "print(list_2)"
   ]
  },
  {
   "cell_type": "markdown",
   "id": "ed42129e",
   "metadata": {},
   "source": [
    "### 11. Write a Python program to Count occurrences of an element in a list? "
   ]
  },
  {
   "cell_type": "code",
   "execution_count": 22,
   "id": "e120eb0c",
   "metadata": {},
   "outputs": [
    {
     "name": "stdout",
     "output_type": "stream",
     "text": [
      "1 2 3 4 5 6 1 2 3 1 1\n",
      "Enter the key value1\n",
      "Count of 1 is 4\n"
     ]
    }
   ],
   "source": [
    "list_1=[int(i) for i in input().split()]\n",
    "key=int(input(\"Enter the key value\"))\n",
    "print(\"Count of {} is {}\".format(key,list_1.count(key)))\n"
   ]
  }
 ],
 "metadata": {
  "kernelspec": {
   "display_name": "Python 3 (ipykernel)",
   "language": "python",
   "name": "python3"
  },
  "language_info": {
   "codemirror_mode": {
    "name": "ipython",
    "version": 3
   },
   "file_extension": ".py",
   "mimetype": "text/x-python",
   "name": "python",
   "nbconvert_exporter": "python",
   "pygments_lexer": "ipython3",
   "version": "3.9.12"
  }
 },
 "nbformat": 4,
 "nbformat_minor": 5
}

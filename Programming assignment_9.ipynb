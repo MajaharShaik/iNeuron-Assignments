{
 "cells": [
  {
   "cell_type": "markdown",
   "id": "4ff5df87",
   "metadata": {},
   "source": [
    "### 1. Write a Python program to check if the given number is a Disarium Number?"
   ]
  },
  {
   "cell_type": "code",
   "execution_count": 3,
   "id": "0fee113a",
   "metadata": {},
   "outputs": [
    {
     "name": "stdout",
     "output_type": "stream",
     "text": [
      "Enter number175\n",
      "Disarium number\n"
     ]
    }
   ],
   "source": [
    "def disarium(n):\n",
    "    a=str(n)\n",
    "    sum1=0\n",
    "    j=1\n",
    "    for i in a:\n",
    "        sum1+=int(i)**j\n",
    "        j+=1\n",
    "    if sum1==int(a):\n",
    "        return True\n",
    "    else:\n",
    "        return False\n",
    "num=int(input(\"Enter number\"))\n",
    "if disarium(num):\n",
    "    print(\"Disarium number\")\n",
    "else:\n",
    "    print(\"Not a disarium\")\n",
    "        \n",
    "        "
   ]
  },
  {
   "cell_type": "markdown",
   "id": "fe907e9b",
   "metadata": {},
   "source": [
    "### 2. Write a Python program to print all disarium numbers between 1 to 100? "
   ]
  },
  {
   "cell_type": "code",
   "execution_count": 4,
   "id": "a1714f39",
   "metadata": {},
   "outputs": [
    {
     "name": "stdout",
     "output_type": "stream",
     "text": [
      "1 2 3 4 5 6 7 8 9 89 "
     ]
    }
   ],
   "source": [
    "def disarium(n):\n",
    "    a=str(n)\n",
    "    sum1=0\n",
    "    j=1\n",
    "    for i in a:\n",
    "        sum1+=int(i)**j\n",
    "        j+=1\n",
    "    if sum1==int(a):\n",
    "        return True\n",
    "    else:\n",
    "        return False\n",
    "for i in range(1,101):\n",
    "    if disarium(i):\n",
    "        print(i,end=\" \")"
   ]
  },
  {
   "cell_type": "markdown",
   "id": "083858a5",
   "metadata": {},
   "source": [
    "### 3. Write a Python program to check if the given number is Happy Number? "
   ]
  },
  {
   "cell_type": "code",
   "execution_count": 22,
   "id": "11c2378c",
   "metadata": {},
   "outputs": [
    {
     "name": "stdout",
     "output_type": "stream",
     "text": [
      "Enter number10\n",
      "Happy number\n"
     ]
    }
   ],
   "source": [
    "def square_num(n):\n",
    "    sum1=0\n",
    "    a=str(n)\n",
    "    for i in a:\n",
    "        sum1+=int(i)**2\n",
    "    return sum1\n",
    "def happy_number(n):\n",
    "    a=n\n",
    "    s=[n]\n",
    "    while a != 1:\n",
    "        b=square_num(a)\n",
    "        if b in s:\n",
    "            return False\n",
    "        else:\n",
    "            s.append(b)\n",
    "        a=b\n",
    "    if a == 1:\n",
    "        return True\n",
    "num=int(input(\"Enter number\"))\n",
    "if happy_number(num) == True:\n",
    "    print(\"Happy number\")\n",
    "else:\n",
    "    print(\"Not a happy number\")"
   ]
  },
  {
   "cell_type": "markdown",
   "id": "a1ead5d6",
   "metadata": {},
   "source": [
    "### 4. Write a Python program to print all happy numbers between 1 and 100?"
   ]
  },
  {
   "cell_type": "code",
   "execution_count": 24,
   "id": "9d0fec93",
   "metadata": {},
   "outputs": [
    {
     "name": "stdout",
     "output_type": "stream",
     "text": [
      "1 7 10 13 19 23 28 31 32 44 49 68 70 79 82 86 91 94 97 100 "
     ]
    }
   ],
   "source": [
    "def square_num(n):\n",
    "    sum1=0\n",
    "    a=str(n)\n",
    "    for i in a:\n",
    "        sum1+=int(i)**2\n",
    "    return sum1\n",
    "def happy_number(n):\n",
    "    a=n\n",
    "    s=[n]\n",
    "    while a != 1:\n",
    "        b=square_num(a)\n",
    "        if b in s:\n",
    "            return False\n",
    "        else:\n",
    "            s.append(b)\n",
    "        a=b\n",
    "    if a == 1:\n",
    "        return True\n",
    "for i in range(1,101):\n",
    "    if happy_number(i) == True:\n",
    "        print(i,end=\" \")"
   ]
  },
  {
   "cell_type": "markdown",
   "id": "c5273c08",
   "metadata": {},
   "source": [
    "### 5. Write a Python program to determine whether the given number is a Harshad Number?"
   ]
  },
  {
   "cell_type": "code",
   "execution_count": 6,
   "id": "ca9be956",
   "metadata": {},
   "outputs": [
    {
     "name": "stdout",
     "output_type": "stream",
     "text": [
      "Enter a number156\n",
      "Harshad Number\n"
     ]
    }
   ],
   "source": [
    "def harshad(n):\n",
    "    a=sum([int(i) for i in str(n)])\n",
    "    if n%a == 0:\n",
    "        return True\n",
    "    else:\n",
    "        return False\n",
    "num=int(input(\"Enter a number\"))\n",
    "if harshad(num) == True:\n",
    "    print(\"Harshad Number\")\n",
    "else:\n",
    "    print(\"Not Harshad Number\")"
   ]
  },
  {
   "cell_type": "markdown",
   "id": "c469d3bb",
   "metadata": {},
   "source": [
    "### 6. Write a Python program to print all pronic numbers between 1 and 100? "
   ]
  },
  {
   "cell_type": "code",
   "execution_count": 2,
   "id": "a8e8fb4a",
   "metadata": {},
   "outputs": [
    {
     "name": "stdout",
     "output_type": "stream",
     "text": [
      "2 6 12 20 30 42 56 72 90 "
     ]
    }
   ],
   "source": [
    "def pronic(num):\n",
    "    for i in range(1,num+1):\n",
    "        if i*(i+1) == num:\n",
    "            return True\n",
    "            break\n",
    "    else:\n",
    "        return False\n",
    "for i in range(1,101):\n",
    "    if pronic(i) == True:\n",
    "        print(i,end=\" \")\n"
   ]
  },
  {
   "cell_type": "code",
   "execution_count": null,
   "id": "029f25a0",
   "metadata": {},
   "outputs": [],
   "source": []
  }
 ],
 "metadata": {
  "kernelspec": {
   "display_name": "Python 3 (ipykernel)",
   "language": "python",
   "name": "python3"
  },
  "language_info": {
   "codemirror_mode": {
    "name": "ipython",
    "version": 3
   },
   "file_extension": ".py",
   "mimetype": "text/x-python",
   "name": "python",
   "nbconvert_exporter": "python",
   "pygments_lexer": "ipython3",
   "version": "3.9.12"
  }
 },
 "nbformat": 4,
 "nbformat_minor": 5
}

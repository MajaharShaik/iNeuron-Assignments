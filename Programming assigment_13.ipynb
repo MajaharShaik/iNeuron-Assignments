{
 "cells": [
  {
   "cell_type": "markdown",
   "id": "c8735c04",
   "metadata": {},
   "source": [
    "### Question 1:\n",
    "- Write a program that calculates and prints the value according to the given formula:\n",
    "\n",
    "- Q = Square root of [(2 * C * D)/H]\n",
    "\n",
    "- Following are the fixed values of C and H:\n",
    "    - C is 50. H is 30.\n",
    "- D is the variable whose values should be input to your program in a comma-separated sequence.\n",
    "\n",
    "#### Example\n",
    "\n",
    "- Let us assume the following comma separated input sequence is given to the program:\n",
    "    - 100,150,180\n",
    "- The output of the program should be:\n",
    "    - 18,22,24"
   ]
  },
  {
   "cell_type": "code",
   "execution_count": 11,
   "id": "526e0957",
   "metadata": {},
   "outputs": [
    {
     "name": "stdout",
     "output_type": "stream",
     "text": [
      "100,150,180\n",
      "18,22,24\n"
     ]
    }
   ],
   "source": [
    "import math as m\n",
    "d=[int(i) for i in input().split(\",\")]\n",
    "c=50\n",
    "h=30\n",
    "a=[]\n",
    "for i in d:\n",
    "    a.append(str(int(m.sqrt((2*c*i)/h))))\n",
    "print(\",\".join(a))\n",
    "    "
   ]
  },
  {
   "cell_type": "markdown",
   "id": "6d2bec50",
   "metadata": {},
   "source": [
    "### Question 2:\n",
    "\n",
    "- Write a program which takes 2 digits, X,Y as input and generates a 2-dimensional array. The element value in the i-th row and j-th column of the array should be i*j.\n",
    "\n",
    "- Note: i=0,1.., X-1; j=0,1,¡Y-1.\n",
    "\n",
    "#### Example\n",
    "\n",
    "- Suppose the following inputs are given to the program:\n",
    "    - 3,5\n",
    "- Then, the output of the program should be:\n",
    "    -  [[0, 0, 0, 0, 0], [0, 1, 2, 3, 4], [0, 2, 4, 6, 8]]"
   ]
  },
  {
   "cell_type": "code",
   "execution_count": 12,
   "id": "68ed99c8",
   "metadata": {},
   "outputs": [
    {
     "name": "stdout",
     "output_type": "stream",
     "text": [
      "3,5\n",
      "[[0, 0, 0, 0, 0], [0, 1, 2, 3, 4], [0, 2, 4, 6, 8]]\n"
     ]
    }
   ],
   "source": [
    "x,y=map(int,input().split( ','))\n",
    "a=[]\n",
    "for i in range(x):\n",
    "    b=[]\n",
    "    for j in range(y):\n",
    "        b.append(i*j)\n",
    "    a.append(b)\n",
    "print(a)"
   ]
  },
  {
   "cell_type": "markdown",
   "id": "6f54ce1f",
   "metadata": {},
   "source": [
    "### Question 3:\n",
    "\n",
    "- Write a program that accepts a comma separated sequence of words as input and prints the words in a comma-separated sequence after sorting them alphabetically.\n",
    "\n",
    "- Suppose the following input is supplied to the program:\n",
    "    - without,hello,bag,world\n",
    "- Then, the output should be:\n",
    "    - bag,hello,without,world"
   ]
  },
  {
   "cell_type": "code",
   "execution_count": 13,
   "id": "f554a910",
   "metadata": {},
   "outputs": [
    {
     "name": "stdout",
     "output_type": "stream",
     "text": [
      "without,hello,bag,world\n",
      "bag,hello,without,world\n"
     ]
    }
   ],
   "source": [
    "a=[i for i in input().split(\",\")]\n",
    "a.sort()\n",
    "print(\",\".join(a))"
   ]
  },
  {
   "cell_type": "markdown",
   "id": "4441f2bf",
   "metadata": {},
   "source": [
    "### Question 4:\n",
    "\n",
    "- Write a program that accepts a sequence of whitespace separated words as input and prints the words after removing all duplicate words and sorting them alphanumerically.\n",
    "\n",
    "- Suppose the following input is supplied to the program:\n",
    "\n",
    "    - hello world and practice makes perfect and hello world again\n",
    "    \n",
    "- Then, the output should be:\n",
    "\n",
    "    - again and hello makes perfect practice world"
   ]
  },
  {
   "cell_type": "code",
   "execution_count": 2,
   "id": "3eb44a62",
   "metadata": {},
   "outputs": [
    {
     "name": "stdout",
     "output_type": "stream",
     "text": [
      "hello world and practice makes perfect and hello world again\n",
      "again and hello makes perfect practice world\n"
     ]
    }
   ],
   "source": [
    "a=[i for i in input().split(\" \")]\n",
    "a=list(set(a))\n",
    "a.sort()\n",
    "print(\" \".join(a))"
   ]
  },
  {
   "cell_type": "markdown",
   "id": "fc5dd12c",
   "metadata": {},
   "source": [
    "### Question 5:\n",
    "\n",
    "- Write a program that accepts a sentence and calculate the number of letters and digits.\n",
    "\n",
    "- Suppose the following input is supplied to the program:\n",
    "    - hello world! 123\n",
    "- Then, the output should be:\n",
    "    - LETTERS 10\n",
    "    - DIGITS 3"
   ]
  },
  {
   "cell_type": "code",
   "execution_count": 4,
   "id": "8803cb67",
   "metadata": {},
   "outputs": [
    {
     "name": "stdout",
     "output_type": "stream",
     "text": [
      "hello world!! 123\n",
      "LETTERS 10\n",
      "DIGITS 3\n"
     ]
    }
   ],
   "source": [
    "l=0\n",
    "d=0\n",
    "for i in input():\n",
    "    if i.isalpha():\n",
    "        l+=1\n",
    "    elif i.isdigit():\n",
    "        d+=1\n",
    "print(\"LETTERS {}\".format(l))\n",
    "print(\"DIGITS {}\".format(d))"
   ]
  },
  {
   "cell_type": "markdown",
   "id": "f08e78fc",
   "metadata": {},
   "source": [
    "### Question 6:\n",
    "\n",
    "- A website requires the users to input username and password to register. Write a program to check the validity of password input by users.\n",
    "\n",
    "- Following are the criteria for checking the password:\n",
    "    - 1. At least 1 letter between [a-z]\n",
    "    - 2. At least 1 number between [0-9]\n",
    "    - 1. At least 1 letter between [A-Z]\n",
    "    - 3. At least 1 character from '[$#@]'\n",
    "    "
   ]
  },
  {
   "cell_type": "markdown",
   "id": "3cd97520",
   "metadata": {},
   "source": [
    "    - 4. Minimum length of transaction password: 6\n",
    "    - 5. Maximum length of transaction password: 12    \n",
    "    \n",
    "- Your program should accept a sequence of comma separated passwords and will check them according to the above criteria. Passwords that match the criteria are to be printed, each separated by a comma.\n",
    "\n",
    "#### Example\n",
    "\n",
    "- If the following passwords are given as input to the program:\n",
    "\n",
    "    - ABd1234@1,a F1#,2w3E*,2We3345\n",
    "    \n",
    "- Then, the output of the program should be:\n",
    "\n",
    "    - ABd1234@1"
   ]
  },
  {
   "cell_type": "code",
   "execution_count": 12,
   "id": "fec769db",
   "metadata": {},
   "outputs": [
    {
     "name": "stdout",
     "output_type": "stream",
     "text": [
      "ABd1234@1,a F1#,2w3E*,2We3345\n",
      "ABd1234@1\n"
     ]
    }
   ],
   "source": [
    "import re\n",
    "def check_password(n):\n",
    "    if len(n)>5 and len(n)<13:\n",
    "        small_letters=0\n",
    "        capital_letters=0\n",
    "        numbers=0\n",
    "        charecters=0\n",
    "        for i in n:\n",
    "            if i.islower():\n",
    "                if i.isalpha():\n",
    "                    small_letters+=1\n",
    "            if i.isupper():\n",
    "                if i.isalpha():\n",
    "                    capital_letters+=1\n",
    "            if i.isdigit():\n",
    "                numbers+=1\n",
    "            if i in ['$','#','@']:\n",
    "                charecters+=1\n",
    "        if small_letters !=0 and capital_letters !=0 and numbers !=0 and charecters !=0:\n",
    "            return True\n",
    "        else:\n",
    "            return False\n",
    "    else:\n",
    "        return False\n",
    "a=[i for i in input().split(\",\")]\n",
    "b=[]\n",
    "for i in a:\n",
    "    if check_password(i) == True:\n",
    "        b.append(i)\n",
    "print(\",\".join(b))"
   ]
  }
 ],
 "metadata": {
  "kernelspec": {
   "display_name": "Python 3 (ipykernel)",
   "language": "python",
   "name": "python3"
  },
  "language_info": {
   "codemirror_mode": {
    "name": "ipython",
    "version": 3
   },
   "file_extension": ".py",
   "mimetype": "text/x-python",
   "name": "python",
   "nbconvert_exporter": "python",
   "pygments_lexer": "ipython3",
   "version": "3.9.12"
  }
 },
 "nbformat": 4,
 "nbformat_minor": 5
}

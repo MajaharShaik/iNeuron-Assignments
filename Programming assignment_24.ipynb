{
 "cells": [
  {
   "cell_type": "markdown",
   "id": "da3e0ed6",
   "metadata": {},
   "source": [
    "### Question 1\n",
    "\n",
    "- Create a function that takes an integer and returns a list from 1 to the given number, where:\n",
    "    - 1. If the number can be divided evenly by 4, amplify it by 10 (i.e. return 10 times the number).\n",
    "    - 2. If the number cannot be divided evenly by 4, simply return the number.\n",
    "\n",
    "#### Examples\n",
    "\n",
    "- amplify(4) ➞ [1, 2, 3, 40]\n",
    "- amplify(3) ➞ [1, 2, 3]\n",
    "- amplify(25) ➞ [1, 2, 3, 40, 5, 6, 7, 80, 9, 10, 11, 120, 13, 14, 15, 160, 17, 18, 19, 200, 21, 22, 23, 240, 25]\n",
    "\n",
    "#### Notes\n",
    "-  The given integer will always be equal to or greater than 1.\n",
    "-  Include the number (see example above).\n",
    "-  To perform this problem with its intended purpose, try doing it with list comprehensions. If that&#39;s too difficult, just solve the challenge any way you can."
   ]
  },
  {
   "cell_type": "code",
   "execution_count": 1,
   "id": "f431fd04",
   "metadata": {},
   "outputs": [
    {
     "name": "stdout",
     "output_type": "stream",
     "text": [
      "[1, 2, 3, 40]\n",
      "[1, 2, 3]\n",
      "[1, 2, 3, 40, 5, 6, 7, 80, 9, 10, 11, 120, 13, 14, 15, 160, 17, 18, 19, 200, 21, 22, 23, 240, 25]\n"
     ]
    }
   ],
   "source": [
    "def amplity(n):\n",
    "    a=[]\n",
    "    for i in range(1,n+1):\n",
    "        if i%4==0:\n",
    "            a.append(i*10)\n",
    "        else:\n",
    "            a.append(i)\n",
    "    return a\n",
    "print(amplity(4))\n",
    "print(amplity(3))\n",
    "print(amplity(25))"
   ]
  },
  {
   "cell_type": "markdown",
   "id": "945cd1f0",
   "metadata": {},
   "source": [
    "### Question 2\n",
    "\n",
    "- Create a function that takes a list of numbers and return the number that&#39;s unique.\n",
    "\n",
    "#### Examples\n",
    "\n",
    "- unique([3, 3, 3, 7, 3, 3]) ➞ 7\n",
    "- unique([0, 0, 0.77, 0, 0]) ➞ 0.77\n",
    "- unique([0, 1, 1, 1, 1, 1, 1, 1]) ➞ 0\n",
    "\n",
    "#### Notes\n",
    "- Test cases will always have exactly one unique number while all others are the same."
   ]
  },
  {
   "cell_type": "code",
   "execution_count": 2,
   "id": "d77f5a9e",
   "metadata": {},
   "outputs": [
    {
     "name": "stdout",
     "output_type": "stream",
     "text": [
      "7\n",
      "0.77\n",
      "0\n"
     ]
    }
   ],
   "source": [
    "def unique(arr):\n",
    "    for i in arr:\n",
    "        if arr.count(i) == 1:\n",
    "            return i\n",
    "\n",
    "print(unique([3, 3, 3, 7, 3, 3]))\n",
    "print(unique([0, 0, 0.77, 0, 0]))\n",
    "print(unique([0, 1, 1, 1, 1, 1, 1, 1]))"
   ]
  },
  {
   "cell_type": "markdown",
   "id": "f7b72414",
   "metadata": {},
   "source": [
    "### Question 3\n",
    "\n",
    "- Your task is to create a Circle constructor that creates a circle with a radius provided by an argument. The circles constructed must have two getters getArea() (PIr^2) and getPerimeter() (2PI*r) which give both respective areas and perimeter (circumference).\n",
    "\n",
    "- For help with this class, I have provided you with a Rectangle constructor which you can use as a base example.\n",
    "\n",
    "### Examples\n",
    "\n",
    "- circy = Circle(11)\n",
    "- circy.getArea()\n",
    "     - Should return 380.132711084365\n",
    "- circy = Circle(4.44)\n",
    "- circy.getPerimeter()\n",
    "     - Should return 27.897342763877365\n",
    "\n",
    "#### Notes\n",
    "- Round results up to the nearest integer."
   ]
  },
  {
   "cell_type": "code",
   "execution_count": 7,
   "id": "2e5402dd",
   "metadata": {},
   "outputs": [
    {
     "name": "stdout",
     "output_type": "stream",
     "text": [
      "380.132711084365\n",
      "27.897342763877365\n"
     ]
    }
   ],
   "source": [
    "from math import pi\n",
    "class Circle:\n",
    "    def __init__(self,radius):\n",
    "        self.radius=radius\n",
    "    def getArea(self):\n",
    "        return pi*(self.radius**2)\n",
    "    def getPerimeter(self):\n",
    "        return pi*2*self.radius\n",
    "circy = Circle(11)\n",
    "print(circy.getArea())\n",
    "circy = Circle(4.44)\n",
    "print(circy.getPerimeter())"
   ]
  },
  {
   "cell_type": "markdown",
   "id": "80174717",
   "metadata": {},
   "source": [
    "### Question 4\n",
    "\n",
    "- Create a function that takes a list of strings and return a list, sorted from shortest to longest.\n",
    "\n",
    "#### Examples\n",
    "- sort_by_length([&quot;Google&quot;, &quot;Apple&quot;, &quot;Microsoft&quot;]) ➞ [&quot;Apple&quot;, &quot;Google&quot;, &quot;Microsoft&quot;]\n",
    "- sort_by_length([&quot;Leonardo&quot;, &quot;Michelangelo&quot;, &quot;Raphael&quot;, &quot;Donatello&quot;]) ➞ [&quot;Raphael&quot;, &quot;Leonardo&quot;, &quot;Donatello&quot;, &quot;Michelangelo&quot;]\n",
    "- sort_by_length([&quot;Turing&quot;, &quot;Einstein&quot;, &quot;Jung&quot;]) ➞ [&quot;Jung&quot;, &quot;Turing&quot;, &quot;Einstein&quot;]\n",
    "\n",
    "#### Notes\n",
    "\n",
    "- All test cases contain lists with strings of different lengths, so you won&#39;t have to deal with multiple strings of the same length."
   ]
  },
  {
   "cell_type": "code",
   "execution_count": 3,
   "id": "fc3478e1",
   "metadata": {},
   "outputs": [
    {
     "name": "stdout",
     "output_type": "stream",
     "text": [
      "['Apple', 'Google', 'Microsoft']\n",
      "['Raphael', 'Leonardo', 'Donatello', 'Michelangelo']\n",
      "['Jung', 'Turing', 'Einstein']\n"
     ]
    }
   ],
   "source": [
    "def sort_by_length(arr):\n",
    "    arr=sorted(arr,key=lambda x:len(x))\n",
    "    return arr\n",
    "\n",
    "print(sort_by_length([\"Google\", \"Apple\", \"Microsoft\"]))\n",
    "print(sort_by_length([\"Leonardo\", \"Michelangelo\", \"Raphael\", \"Donatello\"]))\n",
    "print(sort_by_length([\"Turing\", \"Einstein\", \"Jung\"]))\n"
   ]
  },
  {
   "cell_type": "markdown",
   "id": "4c3b9f07",
   "metadata": {},
   "source": [
    "### Question 5\n",
    "\n",
    "- Create a function that validates whether three given integers form a Pythagorean triplet. The sum of the squares of the two smallest integers must equal the square of the largest number to be validated.\n",
    "\n",
    "#### Examples\n",
    "- is_triplet(3, 4, 5) ➞ True\n",
    "     - 3² + 4² = 25\n",
    "     - 5² = 25\n",
    "- is_triplet(13, 5, 12) ➞ True\n",
    "     - 5² + 12² = 169\n",
    "     - 13² = 169\n",
    "- is_triplet(1, 2, 3) ➞ False\n",
    "     - 1² + 2² = 5\n",
    "     - 3² = 9\n",
    "\n",
    "#### Notes\n",
    "\n",
    "- Numbers may not be given in a sorted order."
   ]
  },
  {
   "cell_type": "code",
   "execution_count": 5,
   "id": "0db40c8f",
   "metadata": {},
   "outputs": [
    {
     "name": "stdout",
     "output_type": "stream",
     "text": [
      "True\n",
      "True\n",
      "False\n"
     ]
    }
   ],
   "source": [
    "def is_triplet(a,b,c):\n",
    "    arr=[a,b,c]\n",
    "    arr.sort()\n",
    "    if arr[0]**2+arr[1]**2==arr[2]**2:\n",
    "        return True\n",
    "    else:\n",
    "        return False\n",
    "\n",
    "print(is_triplet(3, 4, 5))\n",
    "print(is_triplet(13, 5, 12))\n",
    "print(is_triplet(1, 2, 3))"
   ]
  }
 ],
 "metadata": {
  "kernelspec": {
   "display_name": "Python 3 (ipykernel)",
   "language": "python",
   "name": "python3"
  },
  "language_info": {
   "codemirror_mode": {
    "name": "ipython",
    "version": 3
   },
   "file_extension": ".py",
   "mimetype": "text/x-python",
   "name": "python",
   "nbconvert_exporter": "python",
   "pygments_lexer": "ipython3",
   "version": "3.9.12"
  }
 },
 "nbformat": 4,
 "nbformat_minor": 5
}

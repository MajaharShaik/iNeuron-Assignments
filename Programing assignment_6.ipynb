{
 "cells": [
  {
   "cell_type": "markdown",
   "id": "58d6a5e3",
   "metadata": {},
   "source": [
    "### 1. Write a Python Program to Display Fibonacci Sequence Using Recursion?\n"
   ]
  },
  {
   "cell_type": "code",
   "execution_count": 2,
   "id": "3d2d1004",
   "metadata": {},
   "outputs": [
    {
     "name": "stdout",
     "output_type": "stream",
     "text": [
      "10\n",
      "0 1 1 2 3 5 8 13 21 34 "
     ]
    }
   ],
   "source": [
    "def fibonacci(n):\n",
    "    if n == 1:\n",
    "        return 0\n",
    "    elif n == 2:\n",
    "        return 1\n",
    "    else:\n",
    "        return fibonacci(n-1)+fibonacci(n-2)\n",
    "num=int(input())\n",
    "for i in range(1,num+1):\n",
    "    print(fibonacci(i),end=\" \")"
   ]
  },
  {
   "cell_type": "markdown",
   "id": "a76ee086",
   "metadata": {},
   "source": [
    "### 2. Write a Python Program to Find Factorial of Number Using Recursion?\n"
   ]
  },
  {
   "cell_type": "code",
   "execution_count": 4,
   "id": "568a6b20",
   "metadata": {},
   "outputs": [
    {
     "name": "stdout",
     "output_type": "stream",
     "text": [
      "5\n",
      "120\n"
     ]
    }
   ],
   "source": [
    "def factorial(n):\n",
    "    if n == 1:\n",
    "        return 1\n",
    "    else:\n",
    "        return n*factorial(n-1)\n",
    "num=int(input())\n",
    "print(factorial(num))\n",
    "    "
   ]
  },
  {
   "cell_type": "markdown",
   "id": "485c3b44",
   "metadata": {},
   "source": [
    "### 3. Write a Python Program to calculate your Body Mass Index? "
   ]
  },
  {
   "cell_type": "code",
   "execution_count": 12,
   "id": "1c565bc0",
   "metadata": {},
   "outputs": [
    {
     "name": "stdout",
     "output_type": "stream",
     "text": [
      "Enter wight in kg 72\n",
      "Enter height in cm173\n",
      "Your body mass is 24.0569347455645\n",
      "You are healthy.\n"
     ]
    }
   ],
   "source": [
    "weight=int(input(\"Enter wight in kg \"))\n",
    "height=int(input(\"Enter height in cm\"))\n",
    "bmi=weight / (height/100)**2\n",
    "print(\"Your body mass is {}\".format(bmi))\n",
    "if bmi <= 18.4:\n",
    "    print(\"You are underweight.\")\n",
    "elif bmi <= 24.9:\n",
    "    print(\"You are healthy.\")\n",
    "elif bmi <= 29.9:\n",
    "    print(\"You are over weight.\")\n",
    "elif bmi <= 34.9:\n",
    "    print(\"You are severely over weight.\")\n",
    "elif bmi <= 39.9:\n",
    "    print(\"You are obese.\")\n",
    "else:\n",
    "    print(\"You are severely obese.\")"
   ]
  },
  {
   "cell_type": "markdown",
   "id": "6bafef76",
   "metadata": {},
   "source": [
    "### 4. Write a Python Program to calculate the natural logarithm of any number? "
   ]
  },
  {
   "cell_type": "code",
   "execution_count": 14,
   "id": "89a921e1",
   "metadata": {},
   "outputs": [
    {
     "name": "stdout",
     "output_type": "stream",
     "text": [
      "Enter number  100.12\n",
      "Natural logarithm of given number is 4.6063694665635735\n"
     ]
    }
   ],
   "source": [
    "import math as m\n",
    "num=float(input(\"Enter number  \"))\n",
    "print(\"Natural logarithm of given number is {}\".format(m.log(num)))"
   ]
  },
  {
   "cell_type": "markdown",
   "id": "57c3902d",
   "metadata": {},
   "source": [
    "### 5. Write a Python Program for cube sum of first n natural numbers? "
   ]
  },
  {
   "cell_type": "code",
   "execution_count": 8,
   "id": "ae42fb98",
   "metadata": {},
   "outputs": [
    {
     "name": "stdout",
     "output_type": "stream",
     "text": [
      "10\n",
      "3025\n"
     ]
    }
   ],
   "source": [
    "def cube_sum(n):\n",
    "    c_sum=0\n",
    "    for i in range(1,n+1):\n",
    "        c_sum+=i**3\n",
    "    return c_sum\n",
    "num=int(input())\n",
    "print(cube_sum(num))"
   ]
  }
 ],
 "metadata": {
  "kernelspec": {
   "display_name": "Python 3 (ipykernel)",
   "language": "python",
   "name": "python3"
  },
  "language_info": {
   "codemirror_mode": {
    "name": "ipython",
    "version": 3
   },
   "file_extension": ".py",
   "mimetype": "text/x-python",
   "name": "python",
   "nbconvert_exporter": "python",
   "pygments_lexer": "ipython3",
   "version": "3.9.12"
  }
 },
 "nbformat": 4,
 "nbformat_minor": 5
}

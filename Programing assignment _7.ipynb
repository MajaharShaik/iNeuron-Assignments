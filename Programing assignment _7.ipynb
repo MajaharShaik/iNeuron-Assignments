{
 "cells": [
  {
   "cell_type": "markdown",
   "id": "e8790f6f",
   "metadata": {},
   "source": [
    "### 1. Write a Python Program to find sum of array? "
   ]
  },
  {
   "cell_type": "code",
   "execution_count": 1,
   "id": "f75a0a43",
   "metadata": {},
   "outputs": [
    {
     "name": "stdout",
     "output_type": "stream",
     "text": [
      "Sum of array is 288\n"
     ]
    }
   ],
   "source": [
    "a=[12,23,43,42,34,56,78]\n",
    "print(\"Sum of array is {}\".format(sum(a)))"
   ]
  },
  {
   "cell_type": "markdown",
   "id": "e2d58069",
   "metadata": {},
   "source": [
    "### 2. Write a Python Program to find largest element in an array? "
   ]
  },
  {
   "cell_type": "code",
   "execution_count": 2,
   "id": "2efdb5bb",
   "metadata": {},
   "outputs": [
    {
     "name": "stdout",
     "output_type": "stream",
     "text": [
      "Largest element in the array is 78\n"
     ]
    }
   ],
   "source": [
    "a=[12,23,43,42,34,56,78]\n",
    "print(\"Largest element in the array is {}\".format(max(a)))"
   ]
  },
  {
   "cell_type": "markdown",
   "id": "78738307",
   "metadata": {},
   "source": [
    "### 3. Write a Python Program for array rotation? "
   ]
  },
  {
   "cell_type": "code",
   "execution_count": 7,
   "id": "ee34066f",
   "metadata": {},
   "outputs": [
    {
     "name": "stdout",
     "output_type": "stream",
     "text": [
      "1 2 3 4 5 6\n",
      "Enter no of rotations3\n",
      "Before rotations\n",
      "1 2 3 4 5 6\n",
      "After rotations\n",
      "4 5 6 1 2 3\n"
     ]
    }
   ],
   "source": [
    "a=[int(i) for i in input().split()]\n",
    "n=int(input(\"Enter no of rotations\"))\n",
    "print(\"Before rotations\")\n",
    "print(*a)\n",
    "print(\"After rotations\")\n",
    "for i in range(n):\n",
    "    b=a[0]\n",
    "    a=a[1:]\n",
    "    a.append(b)\n",
    "print(*a)"
   ]
  },
  {
   "cell_type": "markdown",
   "id": "a4040a0c",
   "metadata": {},
   "source": [
    "### 4. Write a Python Program to Split the array and add the first part to the end? "
   ]
  },
  {
   "cell_type": "code",
   "execution_count": 5,
   "id": "89348fe8",
   "metadata": {},
   "outputs": [
    {
     "name": "stdout",
     "output_type": "stream",
     "text": [
      "1 2 3 4 5 6 7\n",
      "Enter the splitting point3\n",
      "Before splitting\n",
      "1 2 3 4 5 6 7\n",
      "After splitting and adding it to last\n",
      "4 5 6 7 1 2 3\n"
     ]
    }
   ],
   "source": [
    "a=[int(i) for i in input().split()]\n",
    "n=int(input(\"Enter the splitting point\"))\n",
    "print(\"Before splitting\")\n",
    "print(*a)\n",
    "print(\"After splitting and adding it to last\")\n",
    "a=a[n:]+a[:n]\n",
    "print(*a)"
   ]
  },
  {
   "cell_type": "markdown",
   "id": "d7dcfabb",
   "metadata": {},
   "source": [
    "### 5. Write a Python Program to check if given array is Monotonic? "
   ]
  },
  {
   "cell_type": "code",
   "execution_count": 11,
   "id": "3d306126",
   "metadata": {},
   "outputs": [
    {
     "name": "stdout",
     "output_type": "stream",
     "text": [
      "1 2 3 4 5 6 7\n",
      "Monotonic\n"
     ]
    }
   ],
   "source": [
    "def increase(arr):\n",
    "    for i in range(len(a)-1):\n",
    "        if arr[i]<arr[i+1]:\n",
    "            continue\n",
    "        else:\n",
    "            return False\n",
    "    else:\n",
    "        return True\n",
    "        \n",
    "def decrease(arr):\n",
    "    for i in range(len(a)-1):\n",
    "        if arr[i]>arr[i+1]:\n",
    "            continue\n",
    "        else:\n",
    "            return False\n",
    "    else:\n",
    "        return True\n",
    "a=[int(i) for i in input().split()]\n",
    "if increase(a) or decrease(a):\n",
    "    print(\"Monotonic\")\n",
    "else:\n",
    "    print(\"Not monotonic\")"
   ]
  }
 ],
 "metadata": {
  "kernelspec": {
   "display_name": "Python 3 (ipykernel)",
   "language": "python",
   "name": "python3"
  },
  "language_info": {
   "codemirror_mode": {
    "name": "ipython",
    "version": 3
   },
   "file_extension": ".py",
   "mimetype": "text/x-python",
   "name": "python",
   "nbconvert_exporter": "python",
   "pygments_lexer": "ipython3",
   "version": "3.9.12"
  }
 },
 "nbformat": 4,
 "nbformat_minor": 5
}

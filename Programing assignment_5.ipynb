{
 "cells": [
  {
   "cell_type": "markdown",
   "id": "57380220",
   "metadata": {},
   "source": [
    "### 1. Write a Python Program to Find LCM? "
   ]
  },
  {
   "cell_type": "code",
   "execution_count": 1,
   "id": "c23d315d",
   "metadata": {},
   "outputs": [
    {
     "name": "stdout",
     "output_type": "stream",
     "text": [
      "4 5\n",
      "20\n"
     ]
    }
   ],
   "source": [
    "def lcm_1(num1,num2):\n",
    "    if num1>num2:\n",
    "        g=num1\n",
    "    else:\n",
    "        g=num2\n",
    "    while True:\n",
    "        if g % num1 ==0 and g % num2 ==0:\n",
    "            lcm=g\n",
    "            break\n",
    "        g+=1\n",
    "    return lcm\n",
    "\n",
    "num1,num2=map(int,input().split())\n",
    "print(lcm_1(num1,num2))\n",
    "        \n",
    "    \n",
    "    "
   ]
  },
  {
   "cell_type": "markdown",
   "id": "0b215618",
   "metadata": {},
   "source": [
    "### 2. Write a Python Program to Find HCF? "
   ]
  },
  {
   "cell_type": "code",
   "execution_count": 4,
   "id": "555546ce",
   "metadata": {},
   "outputs": [
    {
     "name": "stdout",
     "output_type": "stream",
     "text": [
      "12 48\n",
      "12\n"
     ]
    }
   ],
   "source": [
    "def hcf_1(num1,num2):\n",
    "    hcf=1\n",
    "    if num1>num2:\n",
    "        num1,num2=num2,num1\n",
    "    for i in range(1,num1+1):\n",
    "        if num1%i==0 and num2%i==0:\n",
    "            hcf=i\n",
    "    return hcf\n",
    "num1,num2=map(int,input().split())\n",
    "\n",
    "print(hcf_1(num1,num2))"
   ]
  },
  {
   "cell_type": "markdown",
   "id": "476327d7",
   "metadata": {},
   "source": [
    "### 3. Write a Python Program to Convert Decimal to Binary, Octal and Hexadecimal? "
   ]
  },
  {
   "cell_type": "code",
   "execution_count": 2,
   "id": "d172692b",
   "metadata": {},
   "outputs": [
    {
     "name": "stdout",
     "output_type": "stream",
     "text": [
      "Enter Decimal number20\n",
      "Equalent binary value 0b10100\n",
      "Equalent binary value 0o24\n",
      "Equalent binary value 0x14\n"
     ]
    }
   ],
   "source": [
    "num=int(input(\"Enter Decimal number\"))\n",
    "print(\"Equalent binary value\",bin(num))\n",
    "print(\"Equalent binary value\",oct(num))\n",
    "print(\"Equalent binary value\",hex(num))"
   ]
  },
  {
   "cell_type": "markdown",
   "id": "fa63f39d",
   "metadata": {},
   "source": [
    "### 4. Write a Python Program To Find ASCII value of a character? "
   ]
  },
  {
   "cell_type": "code",
   "execution_count": 3,
   "id": "262daa6c",
   "metadata": {},
   "outputs": [
    {
     "name": "stdout",
     "output_type": "stream",
     "text": [
      "Enter a charecterA\n",
      "ASCII value of the charecter is  65\n"
     ]
    }
   ],
   "source": [
    "string=input(\"Enter a charecter\")\n",
    "print(\"ASCII value of the charecter is \",ord(string))"
   ]
  },
  {
   "cell_type": "markdown",
   "id": "c5f005b0",
   "metadata": {},
   "source": [
    "### 5. Write a Python Program to Make a Simple Calculator with 4 basic mathematical operations? "
   ]
  },
  {
   "cell_type": "code",
   "execution_count": 3,
   "id": "9e4ac475",
   "metadata": {},
   "outputs": [
    {
     "name": "stdout",
     "output_type": "stream",
     "text": [
      "Choose any of the following function\n",
      "1.Additon  2.Subtraction  3.Multiplication  4.Division 5.Exit\n",
      "Enter your option1\n",
      "Enter any 2 numbers1 2\n",
      "3\n",
      "Choose any of the following function\n",
      "1.Additon  2.Subtraction  3.Multiplication  4.Division 5.Exit\n",
      "Enter your option2\n",
      "Enter any 2 numbers2 3\n",
      "-1\n",
      "Choose any of the following function\n",
      "1.Additon  2.Subtraction  3.Multiplication  4.Division 5.Exit\n",
      "Enter your option3\n",
      "Enter any 2 numbers3 4\n",
      "12\n",
      "Choose any of the following function\n",
      "1.Additon  2.Subtraction  3.Multiplication  4.Division 5.Exit\n",
      "Enter your option4\n",
      "Enter any 2 numbers10 5\n",
      "2.0\n",
      "Choose any of the following function\n",
      "1.Additon  2.Subtraction  3.Multiplication  4.Division 5.Exit\n",
      "Enter your option5\n"
     ]
    }
   ],
   "source": [
    "def add(a,b):\n",
    "    return a+b\n",
    "def sub(a,b):\n",
    "    return a-b\n",
    "def mul(a,b):\n",
    "    return a*b\n",
    "def div(a,b):\n",
    "    return a/b\n",
    "while True:\n",
    "    print(\"Choose any of the following function\")\n",
    "    print(\"1.Additon  2.Subtraction  3.Multiplication  4.Division 5.Exit\")\n",
    "    n=int(input(\"Enter your option\"))\n",
    "    if n == 5:\n",
    "        break\n",
    "    else:\n",
    "        a,b=map(int,input(\"Enter any 2 numbers\").split())\n",
    "        if n == 1:\n",
    "            print(add(a,b))\n",
    "        elif n == 2:\n",
    "            print(sub(a,b))\n",
    "        elif n == 3:\n",
    "            print(mul(a,b))\n",
    "        elif n == 4:\n",
    "            print(div(a,b))\n"
   ]
  },
  {
   "cell_type": "code",
   "execution_count": null,
   "id": "dc03069c",
   "metadata": {},
   "outputs": [],
   "source": []
  }
 ],
 "metadata": {
  "kernelspec": {
   "display_name": "Python 3 (ipykernel)",
   "language": "python",
   "name": "python3"
  },
  "language_info": {
   "codemirror_mode": {
    "name": "ipython",
    "version": 3
   },
   "file_extension": ".py",
   "mimetype": "text/x-python",
   "name": "python",
   "nbconvert_exporter": "python",
   "pygments_lexer": "ipython3",
   "version": "3.9.12"
  }
 },
 "nbformat": 4,
 "nbformat_minor": 5
}
